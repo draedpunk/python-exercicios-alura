{
  "cells": [
    {
      "cell_type": "markdown",
      "metadata": {
        "id": "view-in-github",
        "colab_type": "text"
      },
      "source": [
        "<a href=\"https://colab.research.google.com/github/draedpunk/python-exercicios-alura/blob/main/python%2Bdata%2Bscience%2Bincio.ipynb\" target=\"_parent\"><img src=\"https://colab.research.google.com/assets/colab-badge.svg\" alt=\"Open In Colab\"/></a>"
      ]
    },
    {
      "cell_type": "markdown",
      "metadata": {
        "id": "_kwAaQ36gLQ1"
      },
      "source": [
        "# Sobre o notebook\n",
        "\n",
        "A \"hora da prática\" é uma atividade do curso de Python para Data Science da Alura que contém diversos desafios envolvendo os aprendizados de cada aula.\n",
        "\n",
        "O notebook \"hora da pratica\" é um notebook construído com espaço para as células dos desafios propostos no curso, com ele você tem espaço para construir e executar suas soluções"
      ]
    },
    {
      "cell_type": "markdown",
      "metadata": {
        "id": "Mc-KN0dA0Z83"
      },
      "source": [
        "## Aula 1 - Introdução ao Python"
      ]
    },
    {
      "cell_type": "markdown",
      "metadata": {
        "id": "l5eLWf0W0ikn"
      },
      "source": [
        "### Questão 1\n",
        "\n",
        "Imprima a frase `Escola de Dados da Alura!`"
      ]
    },
    {
      "cell_type": "code",
      "execution_count": null,
      "metadata": {
        "colab": {
          "base_uri": "https://localhost:8080/"
        },
        "id": "5pllxJ0h0-yA",
        "outputId": "21e6888e-1db8-44b5-adbf-08373b048631"
      },
      "outputs": [
        {
          "name": "stdout",
          "output_type": "stream",
          "text": [
            "Escola de Dados da Alura!\n"
          ]
        }
      ],
      "source": [
        "print(\"Escola de Dados da Alura!\")"
      ]
    },
    {
      "cell_type": "markdown",
      "metadata": {
        "id": "tQdX90Ue03c7"
      },
      "source": [
        "### Questão 2\n",
        "Imprima na tela seu nome e seu sobrenome seguindo a estrutura abaixo:\n",
        "```\n",
        "Nome: [seu nome]\n",
        "Sobrenome: [seu sobrenome]\n",
        "```\n"
      ]
    },
    {
      "cell_type": "code",
      "execution_count": null,
      "metadata": {
        "colab": {
          "base_uri": "https://localhost:8080/"
        },
        "id": "RVw5iKn20_Ps",
        "outputId": "891556e5-a4df-4abc-e2c4-c9dbd4d19d26"
      },
      "outputs": [
        {
          "name": "stdout",
          "output_type": "stream",
          "text": [
            "Nome: Pamela\n",
            "Sobrenome: Rodrigues\n"
          ]
        }
      ],
      "source": [
        "nome = \"Pamela\"\n",
        "sobrenome = \"Rodrigues\"\n",
        "\n",
        "print(\"Nome:\", nome)\n",
        "print(\"Sobrenome:\", sobrenome)"
      ]
    },
    {
      "cell_type": "markdown",
      "metadata": {
        "id": "gfg-aiip03vC"
      },
      "source": [
        "### Questão 3\n",
        "Imprima o seu primeiro nome letra a letra. Por exemplo, nome é Mirla, então eu obtenho a seguinte saída:\n",
        "```\n",
        "M\n",
        "I\n",
        "R\n",
        "L\n",
        "A\n",
        "```\n"
      ]
    },
    {
      "cell_type": "code",
      "execution_count": null,
      "metadata": {
        "colab": {
          "base_uri": "https://localhost:8080/"
        },
        "id": "v5bkrgf60_qx",
        "outputId": "a1fa4cc8-b013-494c-8dc1-1f12e15a0310"
      },
      "outputs": [
        {
          "name": "stdout",
          "output_type": "stream",
          "text": [
            "P\n",
            "A\n",
            "M\n",
            "E\n",
            "L\n",
            "A\n"
          ]
        }
      ],
      "source": [
        "print(\"P\")\n",
        "print(\"A\")\n",
        "print(\"M\")\n",
        "print(\"E\")\n",
        "print(\"L\")\n",
        "print(\"A\")"
      ]
    },
    {
      "cell_type": "markdown",
      "metadata": {
        "id": "oadrJbl704MM"
      },
      "source": [
        "### Questão 4\n",
        "Imprima o dia do seu nascimento em formato `dia mês ano`. Os valores de dia e ano não podem estar entre aspas. O formato deve estar como no exemplo, supondo uma data de aniversário dia 28 de fevereiro de 2003:\n",
        "```\n",
        "28 fevereiro 2003\n",
        "```"
      ]
    },
    {
      "cell_type": "code",
      "execution_count": null,
      "metadata": {
        "colab": {
          "base_uri": "https://localhost:8080/"
        },
        "id": "cx0KSsrq1ALD",
        "outputId": "8e901917-9ef5-4620-8fb5-d43c0411015e"
      },
      "outputs": [
        {
          "name": "stdout",
          "output_type": "stream",
          "text": [
            "1 outubro 2002\n"
          ]
        }
      ],
      "source": [
        "dia = 1\n",
        "mes = \"outubro\"\n",
        "ano = 2002\n",
        "\n",
        "print(dia, mes, ano)"
      ]
    },
    {
      "cell_type": "markdown",
      "metadata": {
        "id": "3RgyMaan04TD"
      },
      "source": [
        "### Questão 5\n",
        "Imprima em um único print o atual ano que você está fazendo esse curso, o valor do ano deve ser um dado numérico. A saída do print deve ser a seguinte:\n",
        "```\n",
        "Ano atual: [ano]\n",
        "```\n"
      ]
    },
    {
      "cell_type": "code",
      "execution_count": null,
      "metadata": {
        "colab": {
          "base_uri": "https://localhost:8080/"
        },
        "id": "UN77EfQ2d36Y",
        "outputId": "9722fa45-82cd-4949-df44-68afbd0cc12d"
      },
      "outputs": [
        {
          "name": "stdout",
          "output_type": "stream",
          "text": [
            "Ano atual: 2025\n"
          ]
        }
      ],
      "source": [
        "print(\"Ano atual:\", 2025)"
      ]
    },
    {
      "cell_type": "markdown",
      "metadata": {
        "id": "D9e3FqhO1S3X"
      },
      "source": [
        "## Aula 2 - Manipulando dados no Python"
      ]
    },
    {
      "cell_type": "markdown",
      "metadata": {
        "id": "n6o7C1Ze2cRe"
      },
      "source": [
        "### Coleta e amostragem de dados"
      ]
    },
    {
      "cell_type": "markdown",
      "metadata": {
        "id": "sRneWag9PV5Q"
      },
      "source": [
        "#### Questão 1\n",
        "Crie um programa que solicite à pessoa usuária digitar seu nome, e imprima “Olá, [nome]!”."
      ]
    },
    {
      "cell_type": "code",
      "execution_count": null,
      "metadata": {
        "colab": {
          "base_uri": "https://localhost:8080/"
        },
        "id": "dbX1fKqy2HnE",
        "outputId": "a7be0ba1-cd34-4614-8e3f-7912af9497b3"
      },
      "outputs": [
        {
          "name": "stdout",
          "output_type": "stream",
          "text": [
            "Informe o seu nome: Pamela\n"
          ]
        }
      ],
      "source": [
        "nome = input(\"Informe o seu nome: \")"
      ]
    },
    {
      "cell_type": "code",
      "execution_count": null,
      "metadata": {
        "colab": {
          "base_uri": "https://localhost:8080/"
        },
        "id": "9_68299VGmzd",
        "outputId": "106e1277-a7ae-4661-dc95-1ad4c4d561ad"
      },
      "outputs": [
        {
          "name": "stdout",
          "output_type": "stream",
          "text": [
            "Olá, Pamela!\n"
          ]
        }
      ],
      "source": [
        "print(f'Olá, {nome}!')"
      ]
    },
    {
      "cell_type": "markdown",
      "metadata": {
        "id": "BJ1SznEp70d5"
      },
      "source": [
        "#### Questão 2\n",
        "Crie um programa que solicite à pessoa usuária digitar seu nome e idade, e imprima “Olá, [nome], você tem [idade] anos.”."
      ]
    },
    {
      "cell_type": "code",
      "execution_count": null,
      "metadata": {
        "colab": {
          "base_uri": "https://localhost:8080/"
        },
        "id": "jKz-0Sq8PFkp",
        "outputId": "b867be99-074d-401d-ef6c-faefedcec6c6"
      },
      "outputs": [
        {
          "name": "stdout",
          "output_type": "stream",
          "text": [
            "Informe o seu nome: Pamela\n",
            "Informe sua idade: 22\n"
          ]
        }
      ],
      "source": [
        "nome = input(\"Informe o seu nome: \")\n",
        "idade = int(input(\"Informe sua idade: \"))"
      ]
    },
    {
      "cell_type": "code",
      "execution_count": null,
      "metadata": {
        "colab": {
          "base_uri": "https://localhost:8080/"
        },
        "id": "0o9OBe9GG3ZB",
        "outputId": "2d1cb0fa-df02-41fc-c230-a72d42e38ba2"
      },
      "outputs": [
        {
          "name": "stdout",
          "output_type": "stream",
          "text": [
            "Olá, Pamela. Você tem 22 anos.\n"
          ]
        }
      ],
      "source": [
        "print(f'Olá, {nome}. Você tem {idade} anos.')"
      ]
    },
    {
      "cell_type": "markdown",
      "metadata": {
        "id": "2T0jNYZt70aa"
      },
      "source": [
        "#### Questão 3\n",
        "Crie um programa que solicite à pessoa usuária digitar seu nome, idade e altura em metros, e imprima “Olá, [nome], você tem [idade] anos e mede [altura] metros!”."
      ]
    },
    {
      "cell_type": "code",
      "execution_count": null,
      "metadata": {
        "colab": {
          "base_uri": "https://localhost:8080/"
        },
        "id": "pI4kHNzTPIXh",
        "outputId": "f33c3c66-9ad2-47c4-c423-aaa4c3e39bdf"
      },
      "outputs": [
        {
          "name": "stdout",
          "output_type": "stream",
          "text": [
            "Informe a sua altura em metros: 1.49\n"
          ]
        }
      ],
      "source": [
        "altura = float(input(\"Informe a sua altura em metros: \"))"
      ]
    },
    {
      "cell_type": "code",
      "execution_count": null,
      "metadata": {
        "colab": {
          "base_uri": "https://localhost:8080/"
        },
        "id": "FnI3_Y_sHJnI",
        "outputId": "2fa817c7-f407-4ce0-829a-4c9c8271672e"
      },
      "outputs": [
        {
          "name": "stdout",
          "output_type": "stream",
          "text": [
            "Olá, Pamela. Você tem 22 anos e 1.49 metros de altura.\n"
          ]
        }
      ],
      "source": [
        "print(f'Olá, {nome}. Você tem {idade} anos e {altura} metros de altura.')"
      ]
    },
    {
      "cell_type": "markdown",
      "metadata": {
        "id": "mEBFwKkC70KP"
      },
      "source": [
        "### Calculadora com operadores"
      ]
    },
    {
      "cell_type": "markdown",
      "metadata": {
        "id": "H-IV1oAPPSqK"
      },
      "source": [
        "#### Questão 1\n",
        "\n",
        "Crie um programa que solicite dois valores numéricos à pessoa usuária e imprima a soma dos dois valores."
      ]
    },
    {
      "cell_type": "code",
      "execution_count": null,
      "metadata": {
        "colab": {
          "base_uri": "https://localhost:8080/"
        },
        "id": "Zb0W84sy8rnp",
        "outputId": "34ae207e-7e52-40c1-bcef-4d12400e1161"
      },
      "outputs": [
        {
          "name": "stdout",
          "output_type": "stream",
          "text": [
            "Informe o primeiro valor: 54\n",
            "Informe o segundo valor: 78\n",
            "A soma é:  132\n"
          ]
        }
      ],
      "source": [
        "n1 = int(input(\"Informe o primeiro valor: \"))\n",
        "n2 = int(input(\"Informe o segundo valor: \"))\n",
        "\n",
        "print(\"A soma é: \", n1 + n2)"
      ]
    },
    {
      "cell_type": "markdown",
      "metadata": {
        "id": "LUoi2MOu70Em"
      },
      "source": [
        "#### Questão 2\n",
        "Crie um programa que solicite três valores numéricos à pessoa usuária e imprima a soma dos três valores."
      ]
    },
    {
      "cell_type": "code",
      "execution_count": null,
      "metadata": {
        "colab": {
          "base_uri": "https://localhost:8080/"
        },
        "id": "4FYjWyBS8rDm",
        "outputId": "9d1da912-130a-4258-a6d4-161c3d481e63"
      },
      "outputs": [
        {
          "name": "stdout",
          "output_type": "stream",
          "text": [
            "Informe o terceiro valor: 90\n",
            "A soma é:  222\n"
          ]
        }
      ],
      "source": [
        "n3 = int(input(\"Informe o terceiro valor: \"))\n",
        "\n",
        "print(\"A soma é: \", n1 + n2 + n3)"
      ]
    },
    {
      "cell_type": "markdown",
      "metadata": {
        "id": "lezGctF07z8i"
      },
      "source": [
        "#### Questão 3\n",
        "Crie um programa que solicite dois valores numéricos à pessoa usuária e imprima a subtração do primeiro pelo o segundo valor."
      ]
    },
    {
      "cell_type": "code",
      "execution_count": null,
      "metadata": {
        "colab": {
          "base_uri": "https://localhost:8080/"
        },
        "id": "k0GE1z4w8p3J",
        "outputId": "cd24f9f5-92d9-4395-d6a4-3315b4ab1ae3"
      },
      "outputs": [
        {
          "name": "stdout",
          "output_type": "stream",
          "text": [
            "Informe o primeiro valor: 34\n",
            "Informe o segundo valor: 12\n",
            "A subtração é:  22\n"
          ]
        }
      ],
      "source": [
        "n1 = int(input(\"Informe o primeiro valor: \"))\n",
        "n2 = int(input(\"Informe o segundo valor: \"))\n",
        "\n",
        "print(\"A subtração é: \", n1 - n2)"
      ]
    },
    {
      "cell_type": "markdown",
      "metadata": {
        "id": "wwMP-dPU7zxW"
      },
      "source": [
        "#### Questão 4\n",
        "\n",
        "Crie um programa que solicite dois valores numéricos à pessoa usuária e imprima a multiplicação dos dois valores.\n"
      ]
    },
    {
      "cell_type": "code",
      "execution_count": null,
      "metadata": {
        "colab": {
          "base_uri": "https://localhost:8080/"
        },
        "id": "GzFCVHfp8peZ",
        "outputId": "5acba7ee-2fd7-4607-d9d4-6cb9e0b76efb"
      },
      "outputs": [
        {
          "name": "stdout",
          "output_type": "stream",
          "text": [
            "Informe o primeiro valor: 89\n",
            "Informe o segundo valor: 78\n",
            "A multplicação é:  6942\n"
          ]
        }
      ],
      "source": [
        "n1 = int(input(\"Informe o primeiro valor: \"))\n",
        "n2 = int(input(\"Informe o segundo valor: \"))\n",
        "\n",
        "print(\"A multplicação é: \", n1 * n2)"
      ]
    },
    {
      "cell_type": "markdown",
      "metadata": {
        "id": "9kxyHxUo7zRD"
      },
      "source": [
        "#### Questão 5\n",
        "\n",
        "Crie um programa que solicite dois valores numéricos, um numerador e um denominador, e realize a divisão entre os dois valores. Deixe claro que o valor do denominador não pode ser `0`.\n"
      ]
    },
    {
      "cell_type": "code",
      "execution_count": null,
      "metadata": {
        "colab": {
          "base_uri": "https://localhost:8080/"
        },
        "id": "ytJ8l5KH8ozc",
        "outputId": "78116983-4e05-4f18-9c77-b7a61898d108"
      },
      "outputs": [
        {
          "name": "stdout",
          "output_type": "stream",
          "text": [
            "Informe o valor do numerador: 64\n",
            "Informe o valor do denominador (ATENÇÃO: não pode ser 0): 8\n",
            "A divisão é:  1.141025641025641\n"
          ]
        }
      ],
      "source": [
        "n = int(input(\"Informe o valor do numerador: \"))\n",
        "d = int(input(\"Informe o valor do denominador (ATENÇÃO: não pode ser 0): \"))\n",
        "\n",
        "print(\"A divisão é: \", n1/n2)"
      ]
    },
    {
      "cell_type": "markdown",
      "metadata": {
        "id": "zkUSBTQq8Hxt"
      },
      "source": [
        "#### Questão 6\n",
        "\n",
        "Crie um programa que solicite dois valores numéricos, um operador e uma potência, e realize a exponenciação entre esses dois valores.\n"
      ]
    },
    {
      "cell_type": "code",
      "execution_count": null,
      "metadata": {
        "colab": {
          "base_uri": "https://localhost:8080/"
        },
        "id": "RPj36jq08oZp",
        "outputId": "b15ec74f-7ecd-455f-fbbd-0e8aadbc4075"
      },
      "outputs": [
        {
          "name": "stdout",
          "output_type": "stream",
          "text": [
            "Informe o valor da base: 3\n",
            "Informe o valor da potencia: 2\n",
            "O resultado é:  9\n"
          ]
        }
      ],
      "source": [
        "o = int(input(\"Informe o valor da base: \"))\n",
        "p = int(input(\"Informe o valor da potencia: \"))\n",
        "\n",
        "print(\"O resultado é: \", o ** p)"
      ]
    },
    {
      "cell_type": "markdown",
      "metadata": {
        "id": "yiunIusZ8Huj"
      },
      "source": [
        "#### Questão 7\n",
        "Crie um programa que solicite dois valores numéricos, um numerador e um denominador e realize a divisão inteira entre os dois valores. Deixe claro que o valor do denominador não pode ser `0`."
      ]
    },
    {
      "cell_type": "code",
      "execution_count": null,
      "metadata": {
        "colab": {
          "base_uri": "https://localhost:8080/"
        },
        "id": "UHK8xITf8oCg",
        "outputId": "809bd422-c27e-423a-db1d-2f496900fa4c"
      },
      "outputs": [
        {
          "name": "stdout",
          "output_type": "stream",
          "text": [
            "Informe o valor do numerador: 40\n",
            "Informe o valor do denominador (ATENÇÃO: não pode ser 0): 10\n",
            "A divisão inteira é:  4\n"
          ]
        }
      ],
      "source": [
        "# prompt: 23\n",
        "\n",
        "n = int(input(\"Informe o valor do numerador: \"))\n",
        "d = int(input(\"Informe o valor do denominador (ATENÇÃO: não pode ser 0): \"))\n",
        "\n",
        "print(\"A divisão inteira é: \", n // d)"
      ]
    },
    {
      "cell_type": "markdown",
      "metadata": {
        "id": "z_D_JiLX8Hra"
      },
      "source": [
        "#### Questão 8\n",
        "\n",
        "Crie um programa que solicite dois valores numéricos, um numerador e um denominador, e retorne o resto da divisão entre os dois valores. Deixe claro que o valor do denominador não pode ser `0`."
      ]
    },
    {
      "cell_type": "code",
      "execution_count": null,
      "metadata": {
        "colab": {
          "base_uri": "https://localhost:8080/"
        },
        "id": "EWGJeukO8nqx",
        "outputId": "af33240e-5317-43d4-e4a9-822010659938"
      },
      "outputs": [
        {
          "name": "stdout",
          "output_type": "stream",
          "text": [
            "Informe o valor do numerador: 25\n",
            "Informe o valor do denominador (ATENÇÃO: não pode ser 0): 6\n",
            "O resto da divisão é:  1\n"
          ]
        }
      ],
      "source": [
        "n = int(input(\"Informe o valor do numerador: \"))\n",
        "d = int(input(\"Informe o valor do denominador (ATENÇÃO: não pode ser 0): \"))\n",
        "\n",
        "print(\"O resto da divisão é: \", n%d)"
      ]
    },
    {
      "cell_type": "markdown",
      "metadata": {
        "id": "RDRajNkU8N8N"
      },
      "source": [
        "#### Questão 9\n",
        "\n",
        "Crie um código que solicita 3 notas de um estudante e imprima a média das notas."
      ]
    },
    {
      "cell_type": "code",
      "execution_count": null,
      "metadata": {
        "colab": {
          "base_uri": "https://localhost:8080/"
        },
        "id": "H6F4Ojzt8nSR",
        "outputId": "bff4134c-f21c-484b-dd57-7046f53b66cc"
      },
      "outputs": [
        {
          "name": "stdout",
          "output_type": "stream",
          "text": [
            "Informe a primeira nota: 6\n",
            "Informe a segunda nota: 7\n",
            "Informe a terceira nota: 4\n",
            "A média é:  5.666666666666667\n"
          ]
        }
      ],
      "source": [
        "not1 = float(input(\"Informe a primeira nota: \"))\n",
        "not2 = float(input(\"Informe a segunda nota: \"))\n",
        "not3 = float(input(\"Informe a terceira nota: \"))\n",
        "\n",
        "print(\"A média é: \", (not1 + not2 + not3)/3)"
      ]
    },
    {
      "cell_type": "markdown",
      "metadata": {
        "id": "d7fjkne58N21"
      },
      "source": [
        "#### Questão 10\n",
        "\n",
        "Crie um código que calcule e imprima a média ponderada dos números 5, 12, 20 e 15 com pesos respectivamente iguais a 1, 2, 3 e 4."
      ]
    },
    {
      "cell_type": "code",
      "execution_count": null,
      "metadata": {
        "colab": {
          "base_uri": "https://localhost:8080/"
        },
        "id": "fwjoHlV48mkv",
        "outputId": "1dc38444-db73-4a42-b22d-1dedb9c325bf"
      },
      "outputs": [
        {
          "name": "stdout",
          "output_type": "stream",
          "text": [
            "A média é:  14.9\n"
          ]
        }
      ],
      "source": [
        "media = (5*1 + 12*2 + 20*3 + 15*4)/10\n",
        "\n",
        "print(\"A média é: \", media)"
      ]
    },
    {
      "cell_type": "markdown",
      "metadata": {
        "id": "GNmbX1OU8N0V"
      },
      "source": [
        "### Editando textos"
      ]
    },
    {
      "cell_type": "markdown",
      "metadata": {
        "id": "6wZ85mCsRCV0"
      },
      "source": [
        "#### Questão 1\n",
        "\n",
        "Crie uma variável chamada “`frase`” e atribua a ela uma string de sua escolha. Em seguida, imprima a frase na tela."
      ]
    },
    {
      "cell_type": "code",
      "execution_count": null,
      "metadata": {
        "colab": {
          "base_uri": "https://localhost:8080/"
        },
        "id": "eRqr_gh-8mFy",
        "outputId": "d2e54507-f8a7-49ab-ac15-39c66da08401"
      },
      "outputs": [
        {
          "name": "stdout",
          "output_type": "stream",
          "text": [
            "Quero um novo emprego TT\n"
          ]
        }
      ],
      "source": [
        "frase = \"Quero um novo emprego TT\"\n",
        "print(frase)"
      ]
    },
    {
      "cell_type": "markdown",
      "metadata": {
        "id": "Aac17z-18Nwv"
      },
      "source": [
        "#### Questão 2\n",
        "Crie um código que solicite uma frase e depois imprima a frase na tela."
      ]
    },
    {
      "cell_type": "code",
      "execution_count": null,
      "metadata": {
        "colab": {
          "base_uri": "https://localhost:8080/"
        },
        "id": "8zfE2hh98lb0",
        "outputId": "c1be3921-d9df-46ba-afa0-554660c16ac1"
      },
      "outputs": [
        {
          "name": "stdout",
          "output_type": "stream",
          "text": [
            "Informe o seu desejo: Ser magra\n",
            "Ser magra\n"
          ]
        }
      ],
      "source": [
        "new_frase = input(\"Informe o seu desejo: \")\n",
        "print(new_frase)"
      ]
    },
    {
      "cell_type": "markdown",
      "metadata": {
        "id": "DXVzqpN58Ntr"
      },
      "source": [
        "#### Questão 3\n",
        "\n",
        "Crie um código que solicite uma frase à pessoa usuária e imprima a mesma frase digitada mas com todas as letras maiúsculas."
      ]
    },
    {
      "cell_type": "code",
      "execution_count": null,
      "metadata": {
        "colab": {
          "base_uri": "https://localhost:8080/"
        },
        "id": "d0VzoYP68k-I",
        "outputId": "1de6f621-fc6f-4ce9-9f91-e27663da821c"
      },
      "outputs": [
        {
          "name": "stdout",
          "output_type": "stream",
          "text": [
            "SER MAGRA\n"
          ]
        }
      ],
      "source": [
        "print(new_frase.upper())"
      ]
    },
    {
      "cell_type": "markdown",
      "metadata": {
        "id": "I12VeNPK8Nqb"
      },
      "source": [
        "#### Questão 4\n",
        "\n",
        "Crie um código que solicite uma frase à pessoa usuária e imprima a mesma frase digitada mas com todas as letras minúsculas."
      ]
    },
    {
      "cell_type": "code",
      "execution_count": null,
      "metadata": {
        "colab": {
          "base_uri": "https://localhost:8080/"
        },
        "id": "KD8rNy2K8kox",
        "outputId": "2bffa86d-9573-4457-898c-1f3a6b483eac"
      },
      "outputs": [
        {
          "name": "stdout",
          "output_type": "stream",
          "text": [
            "ser magra\n"
          ]
        }
      ],
      "source": [
        "print(new_frase.lower())"
      ]
    },
    {
      "cell_type": "markdown",
      "metadata": {
        "id": "cRqngSE48Nog"
      },
      "source": [
        "#### Questão 5\n",
        "\n",
        "Crie uma variável chamada “`frase`” e atribua a ela uma string de sua escolha. Em seguida, imprima a frase sem espaços em branco no início e no fim."
      ]
    },
    {
      "cell_type": "code",
      "execution_count": null,
      "metadata": {
        "colab": {
          "base_uri": "https://localhost:8080/"
        },
        "id": "aSCpdF-o8kBs",
        "outputId": "bd41b0ce-9616-4c28-c768-d49d9eb79daa"
      },
      "outputs": [
        {
          "name": "stdout",
          "output_type": "stream",
          "text": [
            "Gostaria de pesar 39kg até o final deste ano de 2025.\n"
          ]
        }
      ],
      "source": [
        "frase_cagada = \" Gostaria de pesar 39kg até o final deste ano de 2025. \"\n",
        "print(frase_cagada.strip())"
      ]
    },
    {
      "cell_type": "markdown",
      "metadata": {
        "id": "murIazpQ8Nkv"
      },
      "source": [
        "#### Questão 6\n",
        "\n",
        "Crie um código que solicite uma frase à pessoa usuária e imprima a mesma frase sem espaços em branco no início e no fim."
      ]
    },
    {
      "cell_type": "code",
      "execution_count": null,
      "metadata": {
        "colab": {
          "base_uri": "https://localhost:8080/"
        },
        "id": "tHunjwuG8jNq",
        "outputId": "69cf070c-40c5-4651-f58f-29c7b99a0aa9"
      },
      "outputs": [
        {
          "name": "stdout",
          "output_type": "stream",
          "text": [
            "Informe uma frase qualquer  quero desativar o Gemini  \n",
            "quero desativar o Gemini\n"
          ]
        }
      ],
      "source": [
        "t = input(\"Informe uma frase qualquer\")\n",
        "print(t.strip())"
      ]
    },
    {
      "cell_type": "markdown",
      "metadata": {
        "id": "eRxc2OeX8Nh2"
      },
      "source": [
        "#### Questão 7\n",
        "\n",
        "\n",
        "Crie um código que solicite uma frase à pessoa usuária e imprima a mesma frase sem espaços em branco no início e no fim e em letras minúsculas."
      ]
    },
    {
      "cell_type": "code",
      "execution_count": null,
      "metadata": {
        "colab": {
          "base_uri": "https://localhost:8080/"
        },
        "id": "DYm0_UwS8ih6",
        "outputId": "f4d6babd-37fa-4d74-f843-3ad0d2a6ebe9"
      },
      "outputs": [
        {
          "name": "stdout",
          "output_type": "stream",
          "text": [
            "quero desativar o gemini\n"
          ]
        }
      ],
      "source": [
        "print(t.strip().lower())"
      ]
    },
    {
      "cell_type": "markdown",
      "metadata": {
        "id": "UKATLavs8NfI"
      },
      "source": [
        "#### Questão 8\n",
        "\n",
        "Crie um código que solicite uma frase à pessoa usuária e imprima a mesma frase com todas as vogais “`e`” trocadas pela letra “`f`”."
      ]
    },
    {
      "cell_type": "code",
      "execution_count": null,
      "metadata": {
        "colab": {
          "base_uri": "https://localhost:8080/"
        },
        "id": "k64C5G5S8iLO",
        "outputId": "3f18ef50-ac0c-4484-869e-f274e30bfb1a"
      },
      "outputs": [
        {
          "name": "stdout",
          "output_type": "stream",
          "text": [
            "  qufro dfsativar o Gfmini  \n"
          ]
        }
      ],
      "source": [
        "print(t.replace(\"e\",\"f\"))"
      ]
    },
    {
      "cell_type": "markdown",
      "metadata": {
        "id": "n_1SPchw8NdG"
      },
      "source": [
        "#### Questão 9\n",
        "\n",
        "\n",
        "Crie um código que solicite uma frase à pessoa usuária e imprima a mesma frase com todas as vogais “`a`” trocadas pela caractere  “`@`”."
      ]
    },
    {
      "cell_type": "code",
      "execution_count": null,
      "metadata": {
        "colab": {
          "base_uri": "https://localhost:8080/"
        },
        "id": "msaDNm_p8h0D",
        "outputId": "08a5fba6-7b36-4a00-e896-71c3ffcb789e"
      },
      "outputs": [
        {
          "name": "stdout",
          "output_type": "stream",
          "text": [
            "  quero des@tiv@r o Gemini  \n"
          ]
        }
      ],
      "source": [
        "print(t.replace(\"a\",\"@\"))"
      ]
    },
    {
      "cell_type": "markdown",
      "metadata": {
        "id": "H3sTTjqI8Naa"
      },
      "source": [
        "#### Questão 10\n",
        "\n",
        "\n",
        "Crie um código que solicite uma frase à pessoa usuária e imprima a mesma frase com todas as consoantes “`s`” trocadas pelo caractere  “`$`”."
      ]
    },
    {
      "cell_type": "code",
      "execution_count": null,
      "metadata": {
        "colab": {
          "base_uri": "https://localhost:8080/"
        },
        "id": "RPBIsWT68e-1",
        "outputId": "13cb01b7-0cbf-47f2-f062-a6518524d45e"
      },
      "outputs": [
        {
          "name": "stdout",
          "output_type": "stream",
          "text": [
            "  quero de$ativar o Gemini  \n"
          ]
        }
      ],
      "source": [
        "print(t.replace(\"s\", \"$\"))"
      ]
    },
    {
      "cell_type": "markdown",
      "metadata": {
        "id": "XGePe4GD2I59"
      },
      "source": [
        "## Aula 3 - Estruturas condicionais"
      ]
    },
    {
      "cell_type": "markdown",
      "metadata": {
        "id": "Pr9HTW0UHCdD"
      },
      "source": [
        "### Aquecendo na programação"
      ]
    },
    {
      "cell_type": "markdown",
      "metadata": {
        "id": "xBZHqhVg80Fy"
      },
      "source": [
        "#### Questão 1\n",
        "Escreva um programa que peça à pessoa usuária para fornecer dois números e exibir o número maior."
      ]
    },
    {
      "cell_type": "code",
      "execution_count": null,
      "metadata": {
        "colab": {
          "base_uri": "https://localhost:8080/"
        },
        "id": "GJlGnzjc-xyF",
        "outputId": "bb76675e-60fd-4d2e-955e-d4e7e39b7fa3"
      },
      "outputs": [
        {
          "name": "stdout",
          "output_type": "stream",
          "text": [
            "Informe um valor: 90\n",
            "Informe outro valor: 799\n",
            "O maior numero é:  799\n"
          ]
        }
      ],
      "source": [
        "valor_um = int(input(\"Informe um valor: \"))\n",
        "valor_dois = int(input(\"Informe outro valor: \"))\n",
        "if valor_um > valor_dois:\n",
        "  print(\"O maior numero é: \", valor_um)\n",
        "else:\n",
        "  print(\"O maior numero é: \", valor_dois)"
      ]
    },
    {
      "cell_type": "markdown",
      "metadata": {
        "id": "H4sgN7dyHNJF"
      },
      "source": [
        "#### Questão 2\n",
        "Escreva um programa que solicite o percentual de crescimento de produção de uma empresa e informe se houve um crescimento (porcentagem positiva) ou decrescimento (porcentagem negativa)."
      ]
    },
    {
      "cell_type": "code",
      "execution_count": null,
      "metadata": {
        "colab": {
          "base_uri": "https://localhost:8080/"
        },
        "id": "-2_Ry5XJ-yZW",
        "outputId": "e07ac186-841c-4c3a-9535-9aa2b3ac0335"
      },
      "outputs": [
        {
          "name": "stdout",
          "output_type": "stream",
          "text": [
            "Informe o percentual de crescimento de produção: 6\n",
            "Houve um crescimento\n"
          ]
        }
      ],
      "source": [
        "percentual = float(input(\"Informe o percentual de crescimento de produção: \"))\n",
        "if percentual > 0:\n",
        "  print(\"Houve um crescimento\")\n",
        "else:\n",
        "  print(\"Houve um decrescimento\")"
      ]
    },
    {
      "cell_type": "markdown",
      "metadata": {
        "id": "a_mzNOBDHNny"
      },
      "source": [
        "#### Questão 3\n",
        "Escreva um programa que determine se uma letra fornecida pela pessoa usuária é uma vogal ou consoante."
      ]
    },
    {
      "cell_type": "code",
      "execution_count": null,
      "metadata": {
        "colab": {
          "base_uri": "https://localhost:8080/"
        },
        "id": "NbgndVyg-zFJ",
        "outputId": "9be56158-0a78-4130-db59-457c223ecd80"
      },
      "outputs": [
        {
          "name": "stdout",
          "output_type": "stream",
          "text": [
            "Informe uma letra: \n",
            "É uma consoante\n"
          ]
        }
      ],
      "source": [
        "vogal = [\"a\", \"e\", \"i\", \"o\", \"u\"]\n",
        "\n",
        "letra = input(\"Informe uma letra: \")\n",
        "\n",
        "if letra in vogal:\n",
        "  print(\"É uma vogal\")\n",
        "else:\n",
        "  print(\"É uma consoante\")"
      ]
    },
    {
      "cell_type": "markdown",
      "metadata": {
        "id": "mofMRjSZHP99"
      },
      "source": [
        "#### Questão 4\n",
        "Escreva um programa que leia valores médios de preços de um modelo de carro por 3 anos consecutivos e exiba o valor mais alto e mais baixo entre esses três anos."
      ]
    },
    {
      "cell_type": "code",
      "execution_count": null,
      "metadata": {
        "colab": {
          "base_uri": "https://localhost:8080/"
        },
        "id": "TX--d3k9-02c",
        "outputId": "80036858-3fdc-4956-f7f6-5d4df5d8c1a1"
      },
      "outputs": [
        {
          "name": "stdout",
          "output_type": "stream",
          "text": [
            "Informe o valor do primeiro ano: 3000\n",
            "Informe o valor do segundo ano: 2000\n",
            "Informe o valor do terceiro ano: 5000\n",
            "O maior valor é:  5000.0\n"
          ]
        }
      ],
      "source": [
        "ano1 = float(input(\"Informe o valor do primeiro ano: \"))\n",
        "ano2 = float(input(\"Informe o valor do segundo ano: \"))\n",
        "ano3 = float(input(\"Informe o valor do terceiro ano: \"))\n",
        "\n",
        "if ano1 > ano2 and ano1 > ano3:\n",
        "  print(\"O maior valor é: \", ano1)\n",
        "elif ano2 > ano1 and ano2 > ano3:\n",
        "  print(\"O maior valor é: \", ano2)\n",
        "  if ano1 > ano2:\n",
        "    print(\"O menor valor é: \", ano2)\n",
        "  else:\n",
        "    print(\"O menor valor é: \", ano1)\n",
        "else:\n",
        "  print(\"O maior valor é: \", ano3)"
      ]
    },
    {
      "cell_type": "markdown",
      "metadata": {
        "id": "jY5tIwd-HQzc"
      },
      "source": [
        "#### Questão 5\n",
        "Escreva um programa que pergunte sobre o preço de três produtos e indique qual é o produto mais barato para comprar."
      ]
    },
    {
      "cell_type": "code",
      "execution_count": null,
      "metadata": {
        "colab": {
          "base_uri": "https://localhost:8080/"
        },
        "id": "sYqNh9df-0gk",
        "outputId": "e42c2e72-5518-4e2d-8560-d3d2618cad43"
      },
      "outputs": [
        {
          "name": "stdout",
          "output_type": "stream",
          "text": [
            "Informe o valor do primeiro produto: 20\n",
            "Informe o valor do segundo produto: 40\n",
            "Informe o valor do terceiro produto: 23\n",
            "O produto mais barato é o de valor 20.0\n"
          ]
        }
      ],
      "source": [
        "p1 = float(input(\"Informe o valor do primeiro produto: \"))\n",
        "p2 = float(input(\"Informe o valor do segundo produto: \"))\n",
        "p3 = float(input(\"Informe o valor do terceiro produto: \"))\n",
        "\n",
        "if p1 < p2 and p1 < p3:\n",
        "  print(f'O produto mais barato é o de valor {p1}')\n",
        "elif p2 < p1 and p2 < p3:\n",
        "  print(f'O produto mais barato é o de valor {p2}')\n",
        "else:\n",
        "  print(f'O produto mais barato é o de valor {p3}')"
      ]
    },
    {
      "cell_type": "markdown",
      "metadata": {
        "id": "1r6aVxtTHR4E"
      },
      "source": [
        "#### Questão 6\n",
        "Escreva um programa que leia três números e os exiba em ordem decrescente."
      ]
    },
    {
      "cell_type": "code",
      "execution_count": null,
      "metadata": {
        "colab": {
          "base_uri": "https://localhost:8080/"
        },
        "id": "ydOCYUMO-0Hk",
        "outputId": "dfab6937-3731-4166-d603-3d460122e242"
      },
      "outputs": [
        {
          "name": "stdout",
          "output_type": "stream",
          "text": [
            "Informe o primeiro valor: 3\n",
            "Informe o segundo valor: 2\n",
            "Informe o terceiro valor: 1\n",
            "3 2 1\n"
          ]
        }
      ],
      "source": [
        "x = int(input(\"Informe o primeiro valor: \"))\n",
        "y = int(input(\"Informe o segundo valor: \"))\n",
        "z = int(input(\"Informe o terceiro valor: \"))\n",
        "\n",
        "if x > y and x > z:\n",
        "  if y > z:\n",
        "    print(x, y, z)\n",
        "  else:\n",
        "    print(x, z, y)\n",
        "else:\n",
        "  if y > x and y > z:\n",
        "    if x > z:\n",
        "      print(y, x, z)\n",
        "    else:\n",
        "      print(y, z, x)"
      ]
    },
    {
      "cell_type": "markdown",
      "metadata": {
        "id": "inW3F-hAHS_X"
      },
      "source": [
        "#### Questão 7\n",
        "Escreva um programa que pergunte em qual turno a pessoa usuária estuda (\"manhã\", \"tarde\" ou \"noite\") e exiba a mensagem \"Bom Dia!\", \"Boa Tarde!\", \"Boa Noite!\", ou \"Valor Inválido!\", conforme o caso."
      ]
    },
    {
      "cell_type": "code",
      "execution_count": null,
      "metadata": {
        "colab": {
          "base_uri": "https://localhost:8080/"
        },
        "id": "-_q-Pcr_-zth",
        "outputId": "b0f0d2f6-359a-40b2-eede-3f4000ca4b3c"
      },
      "outputs": [
        {
          "name": "stdout",
          "output_type": "stream",
          "text": [
            "Informe o turno em que voce estuda: NOITE\n",
            "Boa noite\n"
          ]
        }
      ],
      "source": [
        "turno = input(\"Informe o turno em que voce estuda: \").lower()\n",
        "\n",
        "if turno == \"manhã\" or turno == \"manha\":\n",
        "  print(\"Bom dia!\")\n",
        "elif turno == \"tarde\":\n",
        "  print(\"Boa tarde\")\n",
        "elif turno == \"noite\":\n",
        "  print(\"Boa noite\")\n",
        "else:\n",
        "  print(\"Valor inválido\")"
      ]
    },
    {
      "cell_type": "markdown",
      "metadata": {
        "id": "NCCPF3QqHTw-"
      },
      "source": [
        "#### Questão 8\n",
        "Escreva um programa que peça um número inteiro à pessoa usuária e determine se ele é par ou ímpar. Dica: Você pode utilizar o operador módulo `%`."
      ]
    },
    {
      "cell_type": "code",
      "execution_count": null,
      "metadata": {
        "colab": {
          "base_uri": "https://localhost:8080/"
        },
        "id": "OmZJt1nQ-3e6",
        "outputId": "b4dd6c1d-8519-48df-ce43-8ecdb8f30235"
      },
      "outputs": [
        {
          "name": "stdout",
          "output_type": "stream",
          "text": [
            "Informe um valor: 9\n",
            "o numero é impar\n"
          ]
        }
      ],
      "source": [
        "x = int(input(\"Informe um valor: \"))\n",
        "\n",
        "if (x%2 == 0):\n",
        "  print(\"o numero é par\")\n",
        "else:\n",
        "  print(\"o numero é impar\")"
      ]
    },
    {
      "cell_type": "markdown",
      "metadata": {
        "id": "h93Ck1tQHUwE"
      },
      "source": [
        "#### Questão 9\n",
        "Escreva um programa que peça um número à pessoa usuária e informe se ele é inteiro ou decimal."
      ]
    },
    {
      "cell_type": "code",
      "execution_count": null,
      "metadata": {
        "colab": {
          "base_uri": "https://localhost:8080/"
        },
        "id": "sLMlZcx8-20N",
        "outputId": "efe5802c-e61e-415c-a05b-6b0501ad3fdf"
      },
      "outputs": [
        {
          "name": "stdout",
          "output_type": "stream",
          "text": [
            "Informe um valor: 9\n",
            "o numero é inteiro\n"
          ]
        }
      ],
      "source": [
        "y = float(input(\"Informe um valor: \"))\n",
        "\n",
        "if (y%1 == 0):\n",
        "  print(\"o numero é inteiro\")\n",
        "else:\n",
        "  print(\"o numero é decimal\")"
      ]
    },
    {
      "cell_type": "markdown",
      "metadata": {
        "id": "bKdXSK1SH_pF"
      },
      "source": [
        "### Momento dos projetos"
      ]
    },
    {
      "cell_type": "markdown",
      "metadata": {
        "id": "WBlEyyzsHV86"
      },
      "source": [
        "#### Questão 10\n",
        "Um programa deve ser escrito para ler dois números e, em seguida, perguntar à pessoa usuária qual operação ele deseja realizar. O resultado da operação deve incluir informações sobre o número - se é par ou ímpar, positivo ou negativo e inteiro ou decimal."
      ]
    },
    {
      "cell_type": "code",
      "execution_count": null,
      "metadata": {
        "colab": {
          "base_uri": "https://localhost:8080/"
        },
        "id": "3jmahZ0f-2gq",
        "outputId": "f5eb024b-4a6c-4781-b261-8edbab1141e6"
      },
      "outputs": [
        {
          "name": "stdout",
          "output_type": "stream",
          "text": [
            "Informe o primeiro valor: 7\n",
            "Informe o segundo valor: 8\n",
            "Informe a operação que deseja realizar: subtracao\n",
            "O resultado da subtracao é de:  -1.0\n",
            "-1.0 é um numero inteiro\n",
            "-1.0 é um numero impar\n",
            "-1.0 é um numero negativo\n"
          ]
        }
      ],
      "source": [
        "a = float(input(\"Informe o primeiro valor: \"))\n",
        "b = float(input(\"Informe o segundo valor: \"))\n",
        "operacao = input(\"Informe a operação que deseja realizar: \")\n",
        "\n",
        "if operacao == \"soma\":\n",
        "  resultado = a + b\n",
        "elif operacao == \"subtracao\":\n",
        "  resultado = a - b\n",
        "elif operacao == \"multiplicacao\":\n",
        "  resultado = a * b\n",
        "elif operacao == \"divisao\":\n",
        "  resultado = a / b\n",
        "print(f'O resultado da {operacao} é de: ', resultado)\n",
        "\n",
        "#inteiro ou decimal\n",
        "if (resultado%1 == 0):\n",
        "    print(f'{resultado} é um numero inteiro')\n",
        "else:\n",
        "    print(f'{resultado} é um numero decimal')\n",
        "\n",
        "#par ou impar\n",
        "if (resultado%2 == 0):\n",
        "    print(f'{resultado} é um numero par')\n",
        "else:\n",
        "    print(f'{resultado} é um numero impar')\n",
        "\n",
        "#positivo ou negativo\n",
        "if (resultado > 0):\n",
        "    print(f'{resultado} é um numero positivo')\n",
        "else:\n",
        "    print(f'{resultado} é um numero negativo')"
      ]
    },
    {
      "cell_type": "markdown",
      "metadata": {
        "id": "VdnlULxHHW19"
      },
      "source": [
        "#### Questão 11\n",
        "Escreva um programa que peça à pessoa usuária três números que representam os lados de um triângulo. O programa deve informar se os valores podem ser utilizados para formar um triângulo e, caso afirmativo, se ele é equilátero, isósceles ou escaleno. Tenha em mente algumas dicas:\n",
        "- Três lados formam um triângulo quando a soma de quaisquer dois lados for maior que o terceiro;\n",
        "- Triângulo Equilátero: três lados iguais;\n",
        "- Triângulo Isósceles: quaisquer dois lados iguais;\n",
        "- Triângulo Escaleno: três lados diferentes;\n"
      ]
    },
    {
      "cell_type": "code",
      "execution_count": null,
      "metadata": {
        "colab": {
          "base_uri": "https://localhost:8080/"
        },
        "id": "0z73sqUO-2Pw",
        "outputId": "d9bc9ab8-5ef9-4acf-8775-f986586f29e4"
      },
      "outputs": [
        {
          "name": "stdout",
          "output_type": "stream",
          "text": [
            "Informe o valor do primeiro lado: 3\n",
            "Informe o valor do segundo lado: 4\n",
            "Informe o valor do terceiro lado: 5\n",
            "É um triangulo\n",
            "É um triangulo escaleno\n"
          ]
        }
      ],
      "source": [
        "a = float(input(\"Informe o valor do primeiro lado: \"))\n",
        "b = float(input(\"Informe o valor do segundo lado: \"))\n",
        "c = float(input(\"Informe o valor do terceiro lado: \"))\n",
        "\n",
        "if a + b > c and a + c > b and b + c > a:\n",
        "  print(\"É um triangulo\")\n",
        "else:\n",
        "  print(\"Não é um triangulo\")\n",
        "\n",
        "if a == b and a == c:\n",
        "  print(\"É um triangulo equilátero\")\n",
        "elif a == b or a == c or b == c:\n",
        "  print(\"É um triangulo isósceles\")\n",
        "else:\n",
        "  print(\"É um triangulo escaleno\")"
      ]
    },
    {
      "cell_type": "markdown",
      "metadata": {
        "id": "_PpEpOugHXwZ"
      },
      "source": [
        "#### Questão 12\n",
        "Um estabelecimento está vendendo combustíveis com descontos variados. Para o etanol, se a quantidade comprada for até 15 litros, o desconto será de 2% por litro. Caso contrário, será de 4% por litro. Para o diesel, se a quantidade comprada for até 15 litros, o desconto será de 3% por litro. Caso contrário, será de 5% por litro. O preço do litro de diesel é R\\$ 2,00 e o preço do litro de etanol é R\\$ 1,70. Escreva um programa que leia a quantidade de litros vendidos e o tipo de combustível (E para etanol e D para diesel) e calcule o valor a ser pago pelo cliente. Tenha em mente algumas dicas:\n",
        "\n",
        "- O do valor do desconto será a multiplicação entre preço do litro, quantidade de litros e o valor do desconto.\n",
        "- O valor a ser pago por um cliente será o resultado da multiplicação do preço do litro pela quantidade de litros menos o valor de desconto resultante do cálculo.\n"
      ]
    },
    {
      "cell_type": "code",
      "execution_count": null,
      "metadata": {
        "colab": {
          "base_uri": "https://localhost:8080/"
        },
        "id": "9izoF-0O-1yD",
        "outputId": "eec00d8f-9d98-419e-b93b-df6efeef441d"
      },
      "outputs": [
        {
          "name": "stdout",
          "output_type": "stream",
          "text": [
            "Informe o tipo de combustivel (E - Etanol // D - Disel): e\n",
            "Informe a quantidade de litros: 10\n",
            "O valor a ser pago é de: R$ 16.66\n"
          ]
        }
      ],
      "source": [
        "combustivel = input(\"Informe o tipo de combustivel (E - Etanol // D - Disel): \").lower()\n",
        "litros = float(input(\"Informe a quantidade de litros: \"))\n",
        "\n",
        "if combustivel == \"e\":\n",
        "  if litros <= 15:\n",
        "    desconto = 1.7 * litros * 0.02\n",
        "  else:\n",
        "    desconto = 1.7 * litros * 0.04\n",
        "  preco_final = (1.7 * litros) - desconto\n",
        "  print(f'O valor a ser pago é de: R$ {preco_final}')\n",
        "\n",
        "else: # combustivel == \"d\"\n",
        "  if litros <= 15:\n",
        "    desconto = 2 * litros * 0.03\n",
        "  else:\n",
        "    desconto = 2 * litros * 0.05\n",
        "  preco_final = (2 * litros) - desconto\n",
        "  print(f'O valor a ser pago é de: R$ {preco_final}')"
      ]
    },
    {
      "cell_type": "markdown",
      "metadata": {
        "id": "s_XS_D1WHY2R"
      },
      "source": [
        "#### Questão 13\n",
        "Em uma empresa de venda de imóveis você precisa criar um código que analise os dados de vendas anuais para ajudar a diretoria na tomada de decisão. O código precisa coletar os dados de quantidade de venda durante os anos de 2022 e 2023 e fazer um cálculo de variação percentual. A partir do valor da variação, deve ser enviada às seguintes sugestões:\n",
        "- Para variação acima de 20%: bonificação para o time de vendas.\n",
        "- Para variação entre 2% e 20%: pequena bonificação para time de vendas.\n",
        "- Para variação entre 2% e -10%: planejamento de políticas de incentivo às vendas.\n",
        "- Para bonificações abaixo de -10%: corte de gastos.\n"
      ]
    },
    {
      "cell_type": "code",
      "execution_count": null,
      "metadata": {
        "colab": {
          "base_uri": "https://localhost:8080/"
        },
        "id": "avQrYlUg-w8f",
        "outputId": "3c2cc0f2-7a2b-4034-c4db-0556a559e8cc"
      },
      "outputs": [
        {
          "name": "stdout",
          "output_type": "stream",
          "text": [
            "Informe o valor da venda anual no ano de 2022: R$ 800\n",
            "Informe o valor da venda anual no ano de 2023: R$ 880\n",
            "\n",
            "Com uma variação percentual no valor de 10.00%, o recomendado é:\n",
            "Haverá uma pequena bonificação para o time de vendas.\n"
          ]
        }
      ],
      "source": [
        "venda_inicial = float(input(\"Informe o valor da venda anual no ano de 2022: R$ \"))\n",
        "venda_final = float(input(\"Informe o valor da venda anual no ano de 2023: R$ \"))\n",
        "\n",
        "vp = ((venda_final - venda_inicial) / venda_inicial) * 100\n",
        "\n",
        "print(f'\\nCom uma variação percentual no valor de {vp:.2f}%, o recomendado é:')\n",
        "if vp > 20:\n",
        "    print(\"Haverá uma bonificação para o time de vendas!\")\n",
        "elif 2 < vp <= 20:\n",
        "    print(\"Haverá uma pequena bonificação para o time de vendas.\")\n",
        "elif -10 < vp <= 2:\n",
        "    print(\"Um melhor planejamento de políticas de incentivo às vendas.\")\n",
        "else:  # vp <= -10\n",
        "    print(\"Haverá um corte de gastos.\")"
      ]
    },
    {
      "cell_type": "markdown",
      "metadata": {
        "id": "AuaWh4-d2Itt"
      },
      "source": [
        "## Aula 4 - Estruturas de repetição"
      ]
    },
    {
      "cell_type": "markdown",
      "metadata": {
        "id": "6MSqU0sIJRdD"
      },
      "source": [
        "### Aquecendo na programação"
      ]
    },
    {
      "cell_type": "markdown",
      "metadata": {
        "id": "9eGGyCnAJRdQ"
      },
      "source": [
        "#### Questão 1\n",
        "Escreva um programa que peça dois números inteiros e imprima todos os números inteiros entre eles."
      ]
    },
    {
      "cell_type": "code",
      "execution_count": null,
      "metadata": {
        "colab": {
          "base_uri": "https://localhost:8080/"
        },
        "id": "ID1oc1hxJRdQ",
        "outputId": "021d4fb1-0f9f-4daa-838d-22a45a71df8a"
      },
      "outputs": [
        {
          "output_type": "stream",
          "name": "stdout",
          "text": [
            "Informe o primeiro número inteiro: 2\n",
            "Informe o segundo número interio: 8\n",
            "\n",
            "Os demais números existentes entre o número 2 e o número 8 são:\n",
            "3\n",
            "4\n",
            "5\n",
            "6\n",
            "7\n"
          ]
        }
      ],
      "source": [
        "a = int(input(\"Informe o primeiro número inteiro: \"))\n",
        "b = int(input(\"Informe o segundo número interio: \"))\n",
        "\n",
        "print(f'\\nOs demais números existentes entre o número {a} e o número {b} são:')\n",
        "for numero in range(a, b):\n",
        "  if numero == a:\n",
        "    continue\n",
        "  print(numero)"
      ]
    },
    {
      "cell_type": "markdown",
      "metadata": {
        "id": "mGonEHYCJRdR"
      },
      "source": [
        "#### Questão 2\n",
        "Escreva um programa para calcular quantos dias levará para a colônia de uma bactéria A ultrapassar ou igualar a colônia de uma bactéria B, com base nas taxas de crescimento de 3% e 1,5% respectivamente. Considere que a colônia A inicia com 4 elementos e a colônia B com 10 elementos."
      ]
    },
    {
      "cell_type": "code",
      "execution_count": null,
      "metadata": {
        "id": "wM6FJuoqJRdR",
        "colab": {
          "base_uri": "https://localhost:8080/"
        },
        "outputId": "e3dd8fb2-56e5-4a88-e2b4-19618e2722a8"
      },
      "outputs": [
        {
          "output_type": "stream",
          "name": "stdout",
          "text": [
            "Levará 63 dias para a colônia A ultrapassar ou igualar a colônia B.\n"
          ]
        }
      ],
      "source": [
        "colonia_A = 4\n",
        "colonia_B = 10\n",
        "dias = 0\n",
        "\n",
        "while colonia_A < colonia_B:\n",
        "    colonia_A *= 1.03\n",
        "    colonia_B *=1.015\n",
        "    dias += 1\n",
        "\n",
        "print(f\"Levará {dias} dias para a colônia A ultrapassar ou igualar a colônia B.\")\n"
      ]
    },
    {
      "cell_type": "markdown",
      "metadata": {
        "id": "UiOZRlqoJRdR"
      },
      "source": [
        "#### Questão 3\n",
        "Para tratar uma quantidade de 15 dados de avaliações de pessoas usuárias de um serviço da empresa, precisamos verificar se as notas são válidas. Então, escreva um programa que vai receber a nota de 0 a 5 de todos os dados e verificar se é um valor válido. Caso seja inserido uma nota acima de 5 ou abaixo de 0, repita até que a pessoa usuária insira um valor válido."
      ]
    },
    {
      "cell_type": "code",
      "execution_count": null,
      "metadata": {
        "colab": {
          "base_uri": "https://localhost:8080/"
        },
        "id": "3TUAhCxcJRdR",
        "outputId": "014d17c0-d665-4315-de63-0f38b8dfebde",
        "collapsed": true
      },
      "outputs": [
        {
          "output_type": "stream",
          "name": "stdout",
          "text": [
            "Informe o valor da nota: 9\n",
            "Nota inválida! Insira outro valor (0 a 5)\n",
            "Informe o valor da nota: -9\n",
            "Nota inválida! Insira outro valor (0 a 5)\n",
            "Informe o valor da nota: 1.4\n",
            "1ª nota = 1.4\n",
            "Informe o valor da nota: 5.4\n",
            "Nota inválida! Insira outro valor (0 a 5)\n",
            "Informe o valor da nota: 4.5\n",
            "2ª nota = 4.5\n",
            "Informe o valor da nota: 3.4\n",
            "3ª nota = 3.4\n",
            "Informe o valor da nota: 2.3\n",
            "4ª nota = 2.3\n",
            "Informe o valor da nota: 4.9\n",
            "5ª nota = 4.9\n",
            "Informe o valor da nota: 1.9\n",
            "6ª nota = 1.9\n",
            "Informe o valor da nota: 1.4\n",
            "7ª nota = 1.4\n",
            "Informe o valor da nota: 2.6\n",
            "8ª nota = 2.6\n",
            "Informe o valor da nota: 3.7\n",
            "9ª nota = 3.7\n",
            "Informe o valor da nota: 4.3\n",
            "10ª nota = 4.3\n",
            "Informe o valor da nota: 4.3\n",
            "11ª nota = 4.3\n",
            "Informe o valor da nota: 4.9\n",
            "12ª nota = 4.9\n",
            "Informe o valor da nota: 2.3\n",
            "13ª nota = 2.3\n",
            "Informe o valor da nota: 2.2\n",
            "14ª nota = 2.2\n",
            "Informe o valor da nota: 2.2\n",
            "15ª nota = 2.2\n",
            "Todas as 15 notas foram registradas.\n"
          ]
        }
      ],
      "source": [
        "cont = 0\n",
        "\n",
        "while cont < 15:\n",
        "  nota = float(input(\"Informe o valor da nota: \"))\n",
        "\n",
        "  if nota < 0 or nota > 5:\n",
        "    print(\"Nota inválida! Insira outro valor (0 a 5)\")\n",
        "  else:\n",
        "    cont+=1\n",
        "    print(f'{cont}ª nota = {nota}')\n",
        "\n",
        "print(\"Todas as 15 notas foram registradas.\")"
      ]
    },
    {
      "cell_type": "markdown",
      "metadata": {
        "id": "ABv3KObGJRdR"
      },
      "source": [
        "#### Questão 4\n",
        "Desenvolva um programa que leia um conjunto indeterminado de temperaturas em Celsius e faça uma análise. Portanto, escreva um programa que leia temperaturas e informe a média delas. A leitura deve ser encerrada ao ser enviado o valor -273°C."
      ]
    },
    {
      "cell_type": "code",
      "execution_count": null,
      "metadata": {
        "colab": {
          "base_uri": "https://localhost:8080/"
        },
        "id": "85tBBj5KJRdS",
        "outputId": "8a6daf8c-9748-4517-fa7f-df4e541a2d63"
      },
      "outputs": [
        {
          "name": "stdout",
          "output_type": "stream",
          "text": [
            "Informe o valor das temperaturas para o cálculo da média (°C) (pressione -273°C para encerrar)\n",
            "Informe a temperatura (°C) -> 25\n",
            "Informe a temperatura (°C) -> 20\n",
            "Informe a temperatura (°C) -> 30\n",
            "Informe a temperatura (°C) -> -273\n",
            "O somátório das temperaturas informadas é de 25.00°C.\n"
          ]
        }
      ],
      "source": [
        "print(\"Informe o valor das temperaturas para o cálculo da média (°C) (pressione -273°C para encerrar)\")\n",
        "somatorio_temperaturas = 0\n",
        "cont = 0\n",
        "\n",
        "while True:\n",
        "  temperatura = int(input(\"Informe a temperatura (°C) -> \"))\n",
        "  if temperatura == -273:\n",
        "    break\n",
        "  else:\n",
        "    somatorio_temperaturas += temperatura\n",
        "    cont+=1\n",
        "\n",
        "if cont > 0:\n",
        "    media = somatorio_temperaturas/cont\n",
        "    print(f'O somátório das temperaturas informadas é de {media:.2f}°C.')\n",
        "else:\n",
        "    print(\"Nenhuma temperatura informada.\")\n",
        "\n",
        "\n"
      ]
    },
    {
      "cell_type": "markdown",
      "metadata": {
        "id": "IjkbAfGcJRdS"
      },
      "source": [
        "#### Questão 5\n",
        "Escreva um programa que calcule o fatorial de um número inteiro fornecido pela pessoa usuária. O fatorial de um número inteiro é a multiplicação desse número por todos os seus antecessores até o número 1. Por exemplo, o fatorial de 5 é 5 x 4 x 3 x 2 x 1 = 120."
      ]
    },
    {
      "cell_type": "code",
      "execution_count": null,
      "metadata": {
        "id": "7RTH8o0HJRdS",
        "colab": {
          "base_uri": "https://localhost:8080/"
        },
        "outputId": "6dc8d609-f8e2-4bbf-fc48-1f9603cb8b91"
      },
      "outputs": [
        {
          "output_type": "stream",
          "name": "stdout",
          "text": [
            "Informe um número para calcular o seu fatorial (!) -> 8\n",
            "O fatorial de 8 é 40320.\n"
          ]
        }
      ],
      "source": [
        "f = int(input(\"Informe um número para calcular o seu fatorial (!) -> \"))\n",
        "\n",
        "resultado = 1\n",
        "\n",
        "for i in range(1, f + 1):\n",
        "    resultado *= i\n",
        "\n",
        "print(f\"O fatorial de {f} é {resultado}.\")"
      ]
    },
    {
      "cell_type": "markdown",
      "metadata": {
        "id": "oGNKuQjsJRdT"
      },
      "source": [
        "### Momento dos projetos"
      ]
    },
    {
      "cell_type": "markdown",
      "metadata": {
        "id": "ODxaTUYmJRdS"
      },
      "source": [
        "#### Questão 6\n",
        "Escreva um programa que gere a tabuada de um número inteiro de 1 a 10, de acordo com a escolha da pessoa usuária. Como exemplo, para o número 2, a tabuada deve ser mostrada no seguinte formato:\n",
        "```\n",
        "Tabuada do 2:\n",
        "2 x 1 = 2\n",
        "2 x 2 = 4\n",
        "[...]\n",
        "2 x 10 = 20\n",
        "```"
      ]
    },
    {
      "cell_type": "code",
      "execution_count": null,
      "metadata": {
        "id": "lkTlbxPIJRdS",
        "colab": {
          "base_uri": "https://localhost:8080/"
        },
        "outputId": "a5ea11a0-3e64-4d62-8595-7013fbacc5fa"
      },
      "outputs": [
        {
          "output_type": "stream",
          "name": "stdout",
          "text": [
            "Informe o número que deseja ver a tabuada -> 9\n",
            "\n",
            "Tabuada do 9:\n",
            "9 x 1 = 9\n",
            "9 x 2 = 18\n",
            "9 x 3 = 27\n",
            "9 x 4 = 36\n",
            "9 x 5 = 45\n",
            "9 x 6 = 54\n",
            "9 x 7 = 63\n",
            "9 x 8 = 72\n",
            "9 x 9 = 81\n",
            "9 x 10 = 90\n"
          ]
        }
      ],
      "source": [
        "num = int(input(\"Informe o número que deseja ver a tabuada -> \"))\n",
        "\n",
        "print(f'\\nTabuada do {num}:')\n",
        "for i in range(1, 11):\n",
        "  r = num * i\n",
        "  print(f'{num} x {i} = {r}')"
      ]
    },
    {
      "cell_type": "markdown",
      "metadata": {
        "id": "LeIbnt8VJRdS"
      },
      "source": [
        "#### Questão 7\n",
        "Os números primos possuem várias aplicações dentro da Ciência de Dados, por exemplo, na criptografia e segurança. Um número primo é aquele que é divisível apenas por um e por ele mesmo. Faça um programa que peça um número inteiro e determine se ele é ou não um número primo."
      ]
    },
    {
      "cell_type": "code",
      "execution_count": null,
      "metadata": {
        "id": "2rcNU7twJRdS",
        "colab": {
          "base_uri": "https://localhost:8080/"
        },
        "outputId": "7a12b64d-1023-46b0-9de0-3c4fd97da31d"
      },
      "outputs": [
        {
          "output_type": "stream",
          "name": "stdout",
          "text": [
            "Digite um número inteiro para verificar se é primo: 5\n",
            "5 é um número primo.\n"
          ]
        }
      ],
      "source": [
        "import math\n",
        "\n",
        "# Solicitar o número do usuário\n",
        "numero = int(input(\"Digite um número inteiro para verificar se é primo: \"))\n",
        "\n",
        "# Caso especial para números menores que 2\n",
        "if numero < 2:\n",
        "    print(f\"{numero} não é um número primo.\")\n",
        "else:\n",
        "    # Assumir que o número é primo até provar o contrário\n",
        "    eh_primo = True\n",
        "\n",
        "    # Verificar divisores de 2 até a raiz quadrada do número\n",
        "    for i in range(2, int(math.sqrt(numero)) + 1):\n",
        "        if numero % i == 0:  # Se o número for divisível por i\n",
        "            eh_primo = False\n",
        "            break\n",
        "\n",
        "    # Exibir o resultado\n",
        "    if eh_primo:\n",
        "        print(f\"{numero} é um número primo.\")\n",
        "    else:\n",
        "        print(f\"{numero} não é um número primo.\")\n"
      ]
    },
    {
      "cell_type": "markdown",
      "metadata": {
        "id": "QTwb6QaCJRdT"
      },
      "source": [
        "#### Questão 8\n",
        "Vamos entender a distribuição de idades de pensionistas de uma empresa de previdência. Escreva um programa que leia as idades de uma quantidade não informada de clientes e mostre a distribuição em intervalos de [0-25], [26-50], [51-75] e [76-100]. Encerre a entrada de dados com um número negativo."
      ]
    },
    {
      "cell_type": "code",
      "execution_count": null,
      "metadata": {
        "id": "4IAhaDmYJRdT",
        "colab": {
          "base_uri": "https://localhost:8080/"
        },
        "outputId": "21fb0f2c-1b00-4301-f478-76f9631698ad"
      },
      "outputs": [
        {
          "output_type": "stream",
          "name": "stdout",
          "text": [
            "Informe a idade do pensionista -> 75\n",
            "Informe a idade do pensionista -> 65\n",
            "Informe a idade do pensionista -> 43\n",
            "Informe a idade do pensionista -> 67\n",
            "Informe a idade do pensionista -> 88\n",
            "Informe a idade do pensionista -> 23\n",
            "Informe a idade do pensionista -> 54\n",
            "Informe a idade do pensionista -> 65\n",
            "Informe a idade do pensionista -> 34\n",
            "Informe a idade do pensionista -> 98\n",
            "Informe a idade do pensionista -> 67\n",
            "Informe a idade do pensionista -> 75\n",
            "Informe a idade do pensionista -> 56\n",
            "Informe a idade do pensionista -> 55\n",
            "Informe a idade do pensionista -> 45\n",
            "Informe a idade do pensionista -> 32\n",
            "Informe a idade do pensionista -> 22\n",
            "Informe a idade do pensionista -> 28\n",
            "Informe a idade do pensionista -> -9\n",
            "Idade inválida.\n",
            "\n",
            "Distribuição de idades:\n",
            "[0-25]: 2 clientes\n",
            "[26-50]: 5 clientes\n",
            "[51-75]: 9 clientes\n",
            "[76-100]: 2 clientes\n"
          ]
        }
      ],
      "source": [
        "intervalo_a = 0 # 0 - 25\n",
        "intervalo_b = 0 # 26 - 50\n",
        "intervalo_c = 0 # 51 - 75\n",
        "intervalo_d = 0 # 76 - 100\n",
        "\n",
        "while True:\n",
        "  idade = int(input(\"Informe a idade do pensionista -> \"))\n",
        "\n",
        "  if idade < 0:\n",
        "    print(\"Idade inválida.\")\n",
        "    break\n",
        "\n",
        "  elif 0 < idade <= 25:\n",
        "    intervalo_a += 1\n",
        "\n",
        "  elif 26 <= idade <= 50:\n",
        "    intervalo_b +=1\n",
        "\n",
        "  elif 51 <= idade <= 75:\n",
        "    intervalo_c +=1\n",
        "\n",
        "  elif 76 <= idade <= 100:\n",
        "    intervalo_d +=1\n",
        "\n",
        "print(\"\\nDistribuição de idades:\")\n",
        "print(f\"[0-25]: {intervalo_a} clientes\")\n",
        "print(f\"[26-50]: {intervalo_b} clientes\")\n",
        "print(f\"[51-75]: {intervalo_c} clientes\")\n",
        "print(f\"[76-100]: {intervalo_d} clientes\")"
      ]
    },
    {
      "cell_type": "markdown",
      "metadata": {
        "id": "soJCQVwRJRdT"
      },
      "source": [
        "#### Questão 9\n",
        "Em uma eleição para gerência em uma empresa com 20 funcionários, existem quatro candidatos. Escreva um programa que calcule o vencedor da eleição. A votação ocorreu da seguinte maneira:\n",
        "- Cada funcionário votou em um dos quatro candidatos (representados pelos números 1, 2, 3 e 4).\n",
        "- Também foram contabilizados os votos nulos (representado pelo número 5) e os votos em branco (representado pelo número 6).\n",
        "\n",
        "Ao final da votação, o programa deve exibir o total de votos para cada candidato, o número de votos nulos e o número de votos em branco. Além disso, deve calcular e exibir a porcentagem de votos nulos em relação ao total de votos e a porcentagem de votos em branco em relação ao total de votos."
      ]
    },
    {
      "cell_type": "code",
      "execution_count": null,
      "metadata": {
        "id": "041EFrgG-4gR",
        "colab": {
          "base_uri": "https://localhost:8080/"
        },
        "outputId": "98854f1f-2775-4f4c-daed-95acebc7f874"
      },
      "outputs": [
        {
          "output_type": "stream",
          "name": "stdout",
          "text": [
            "Informe o seu voto (1-6): 9\n",
            "Voto inválido! Tente novamente.\n",
            "Informe o seu voto (1-6): 1\n",
            "Informe o seu voto (1-6): 4\n",
            "Informe o seu voto (1-6): 5\n",
            "Informe o seu voto (1-6): 3\n",
            "Informe o seu voto (1-6): 5\n",
            "\n",
            "Relação total dos votos:\n",
            "Candidato 1: 1 votos.\n",
            "Candidato 2: 0 votos.\n",
            "Candidato 3: 1 votos.\n",
            "Candidato 4: 1 votos.\n",
            "\n",
            "Relação de votos nulos e brancos:\n",
            "Votos nulos: 2 votos.\n",
            "Porcentagem de votos nulos em relação ao total de votos: 40.00%\n",
            "Votos brancos: 0 votos.\n",
            "Porcentagem de votos brancos em relação ao total de votos: 0.00%\n"
          ]
        }
      ],
      "source": [
        "cont_funcionarios = 0\n",
        "voto_um = voto_dois = voto_tres = voto_quatro = voto_nulo_cinco = voto_branco_seis = 0\n",
        "\n",
        "while cont_funcionarios < 5:\n",
        "    voto = int(input(\"Informe o seu voto (1-6): \"))\n",
        "\n",
        "    if voto < 1 or voto > 6:\n",
        "        print(\"Voto inválido! Tente novamente.\")\n",
        "        continue\n",
        "    else:\n",
        "        cont_funcionarios += 1\n",
        "\n",
        "    if voto == 1:\n",
        "        voto_um += 1\n",
        "    elif voto == 2:\n",
        "        voto_dois += 1\n",
        "    elif voto == 3:\n",
        "        voto_tres += 1\n",
        "    elif voto == 4:\n",
        "        voto_quatro += 1\n",
        "    elif voto == 5:\n",
        "        voto_nulo_cinco += 1\n",
        "    elif voto == 6:\n",
        "        voto_branco_seis += 1\n",
        "\n",
        "geral_votos = voto_um + voto_dois + voto_tres + voto_quatro\n",
        "\n",
        "\n",
        "total_votos = geral_votos + voto_nulo_cinco + voto_branco_seis\n",
        "if total_votos > 0:  # evitar divisão por zero\n",
        "    relacao_nulos = (voto_nulo_cinco * 100) / total_votos\n",
        "    relacao_brancos = (voto_branco_seis * 100) / total_votos\n",
        "else:\n",
        "    relacao_nulos = relacao_brancos = 0\n",
        "\n",
        "print(\"\\nRelação total dos votos:\")\n",
        "print(f\"Candidato 1: {voto_um} votos.\")\n",
        "print(f\"Candidato 2: {voto_dois} votos.\")\n",
        "print(f\"Candidato 3: {voto_tres} votos.\")\n",
        "print(f\"Candidato 4: {voto_quatro} votos.\")\n",
        "\n",
        "print(\"\\nRelação de votos nulos e brancos:\")\n",
        "print(f\"Votos nulos: {voto_nulo_cinco} votos.\")\n",
        "print(f\"Porcentagem de votos nulos em relação ao total de votos: {relacao_nulos:.2f}%\")\n",
        "print(f\"Votos brancos: {voto_branco_seis} votos.\")\n",
        "print(f\"Porcentagem de votos brancos em relação ao total de votos: {relacao_brancos:.2f}%\")"
      ]
    },
    {
      "cell_type": "markdown",
      "metadata": {
        "id": "eijHQiNU2IZ7"
      },
      "source": [
        "## Aula 5 - Estruturas de dados"
      ]
    },
    {
      "cell_type": "markdown",
      "metadata": {
        "id": "92F0bKtBMgd7"
      },
      "source": [
        "### Aquecendo na programação"
      ]
    },
    {
      "cell_type": "markdown",
      "metadata": {
        "id": "IypX2ANuMgeC"
      },
      "source": [
        "#### Questão 1\n",
        "Faça um programa que tenha a seguinte lista contendo os valores de gastos de uma empresa de papel `[2172.54, 3701.35, 3518.09, 3456.61, 3249.38, 2840.82, 3891.45, 3075.26, 2317.64, 3219.08]`. Com esses valores, faça um programa que calcule a média de gastos. Dica, use as funções built-in [`sum()`](https://docs.python.org/3/library/functions.html#sum) e [`len()`](https://docs.python.org/3/library/functions.html#len)."
      ]
    },
    {
      "cell_type": "code",
      "execution_count": null,
      "metadata": {
        "id": "ge3LuFhLMgeD",
        "colab": {
          "base_uri": "https://localhost:8080/"
        },
        "outputId": "b052fd7a-d934-4bcd-d093-2176ef5d7a95"
      },
      "outputs": [
        {
          "output_type": "stream",
          "name": "stdout",
          "text": [
            "Total dos gastos: R$ 31442.22\n",
            "Quantidade de itens: 10 itens.\n",
            "A média dos gastos da empresa de papel é de R$ 3144.222\n"
          ]
        }
      ],
      "source": [
        "lista_empresa = [2172.54, 3701.35, 3518.09, 3456.61, 3249.38, 2840.82, 3891.45, 3075.26, 2317.64, 3219.08]\n",
        "somatorio = sum(lista_empresa)\n",
        "print(\"Total dos gastos: R$\", somatorio)\n",
        "tamanho_lista = len(lista_empresa)\n",
        "print(\"Quantidade de itens:\",tamanho_lista,\"itens.\")\n",
        "\n",
        "media = somatorio/tamanho_lista\n",
        "print(\"A média dos gastos da empresa de papel é de R$\", media)"
      ]
    },
    {
      "cell_type": "markdown",
      "metadata": {
        "id": "xrOeLhQkMgeD"
      },
      "source": [
        "#### Questão 2\n",
        " Com os mesmos dados da questão anterior, defina quantas compras foram acima de 3000 reais e calcule a porcentagem quanto ao total de compras."
      ]
    },
    {
      "cell_type": "code",
      "execution_count": null,
      "metadata": {
        "id": "Ygu5TMZyMgeD",
        "colab": {
          "base_uri": "https://localhost:8080/"
        },
        "outputId": "19ae14c5-e7d0-441e-83af-9f2bf20e3ed7"
      },
      "outputs": [
        {
          "output_type": "stream",
          "name": "stdout",
          "text": [
            "Quantidade de compras acima de R$ 3.000,00: 7\n",
            "Quantidade de compras abaixo de R$ 3.000,00: 3\n",
            "\n",
            "Relação do total de compras acima de R$ 3.000,00 ao valor total: 70.0 %\n"
          ]
        }
      ],
      "source": [
        "preco_acima = 0\n",
        "preco_abaixo = 0\n",
        "\n",
        "for preco in lista_empresa:\n",
        "  if preco > 3000:\n",
        "    preco_acima +=1\n",
        "  else:\n",
        "    preco_abaixo +=1\n",
        "\n",
        "relacao_precos_acima = (preco_acima * 100)/tamanho_lista\n",
        "\n",
        "print(\"Quantidade de compras acima de R$ 3.000,00:\", preco_acima)\n",
        "print(\"Quantidade de compras abaixo de R$ 3.000,00:\", preco_abaixo)\n",
        "print(\"\\nRelação do total de compras acima de R$ 3.000,00 ao valor total:\", relacao_precos_acima,\"%\")"
      ]
    },
    {
      "cell_type": "markdown",
      "metadata": {
        "id": "JgCOrE_BMgeD"
      },
      "source": [
        "#### Questão 3\n",
        "Faça um código que colete em uma lista 5 números inteiros quaisquer e imprima a lista. Exemplo: `[1,4,7,2,4]`."
      ]
    },
    {
      "cell_type": "code",
      "execution_count": null,
      "metadata": {
        "id": "vtM9O1hLMgeD",
        "colab": {
          "base_uri": "https://localhost:8080/"
        },
        "outputId": "b4bd1e4b-cbf7-486a-c359-50f913910764"
      },
      "outputs": [
        {
          "output_type": "stream",
          "name": "stdout",
          "text": [
            "Informe um número inteiro -> -6\n",
            "Número inválido! Por favor, selecione um número maior que 0.\n",
            "Informe um número inteiro -> -9\n",
            "Número inválido! Por favor, selecione um número maior que 0.\n",
            "Informe um número inteiro -> 2\n",
            "Informe um número inteiro -> 4\n",
            "Informe um número inteiro -> 8\n",
            "Informe um número inteiro -> 16\n",
            "Informe um número inteiro -> 32\n",
            "Lista de números gerada: [2, 4, 8, 16, 32]\n"
          ]
        }
      ],
      "source": [
        "lista_numeros = []\n",
        "cont = 0\n",
        "\n",
        "while cont < 5:\n",
        "  num = int(input(\"Informe um número inteiro -> \"))\n",
        "\n",
        "  if num < 0:\n",
        "    print(\"Número inválido! Por favor, selecione um número maior que 0.\")\n",
        "  else:\n",
        "    cont +=1\n",
        "    lista_numeros.append(num)\n",
        "\n",
        "print(\"\\nLista de números gerada:\", lista_numeros)"
      ]
    },
    {
      "cell_type": "markdown",
      "metadata": {
        "id": "p3bTp88HMgeD"
      },
      "source": [
        "#### Questão 4\n",
        "Colete novamente 5 inteiros e imprima a lista em ordem inversa à enviada."
      ]
    },
    {
      "cell_type": "code",
      "execution_count": null,
      "metadata": {
        "id": "-CGwMIyHMgeD",
        "colab": {
          "base_uri": "https://localhost:8080/"
        },
        "outputId": "9d93c59c-4c38-43eb-acf3-6da9a1195b41"
      },
      "outputs": [
        {
          "output_type": "stream",
          "name": "stdout",
          "text": [
            "Lista de números anterior, mas agora invertida: [32, 16, 8, 4, 2]\n"
          ]
        }
      ],
      "source": [
        "lista_invertida = lista_numeros[::-1]\n",
        "print(\"Lista de números anterior, mas agora invertida:\", lista_invertida)"
      ]
    },
    {
      "cell_type": "markdown",
      "metadata": {
        "id": "eIXd_z1lMgeD"
      },
      "source": [
        "#### Questão 5\n",
        "Faça um programa que, ao inserir um número qualquer, criará uma lista contendo todos os números primos entre 1 e o número digitado."
      ]
    },
    {
      "cell_type": "code",
      "execution_count": null,
      "metadata": {
        "id": "rj_6GHstMgeE",
        "colab": {
          "base_uri": "https://localhost:8080/"
        },
        "outputId": "709c41c7-2e40-409e-ad1b-15377d5df667"
      },
      "outputs": [
        {
          "output_type": "stream",
          "name": "stdout",
          "text": [
            "Informe um número -> 10\n",
            "O número 10 não é um número primo.\n"
          ]
        }
      ],
      "source": [
        "# ---------- Código para identificar se o número é primo\n",
        "\n",
        "num = int(input(\"Informe um número -> \"))\n",
        "\n",
        "if num <= 1:\n",
        "    print(f\"O número {num} não é um número primo.\")\n",
        "else:\n",
        "    for i in range(2, int(num ** 0.5) + 1):  # Checa até a raiz quadrada de 'num'\n",
        "        if num % i == 0:  # Verifica divisibilidade\n",
        "            print(f\"O número {num} não é um número primo.\")\n",
        "            break\n",
        "    else:\n",
        "        print(f\"O número {num} é um número primo.\")"
      ]
    },
    {
      "cell_type": "code",
      "source": [
        "lista_numeros_primos = []\n",
        "\n",
        "numero = int(input(\"Informe um número -> \")) # informei o valor 10\n",
        "\n",
        "# Percorre todos os números de 2 até o número informado (inclusive)\n",
        "for p in range(2, numero + 1): # 2 até 11\n",
        "    # Verifica se 'p' é primo\n",
        "    eh_primo = True # condiçao inicial como True...\n",
        "    for divisor in range(2, int(p ** 0.5) + 1):\n",
        "        if p % divisor == 0:\n",
        "            eh_primo = False # quando p = 4 e divisor = 2, o resultado será 0 e a condição de primo se tornará falsa\n",
        "            break\n",
        "    # Adiciona à lista se for primo\n",
        "    if eh_primo:\n",
        "        lista_numeros_primos.append(p)\n",
        "\n",
        "print(f\"Segue lista contendo todos os números primos entre 1 e {numero} ->\", lista_numeros_primos)"
      ],
      "metadata": {
        "colab": {
          "base_uri": "https://localhost:8080/"
        },
        "id": "tO6U3HPtaD3G",
        "outputId": "f9a651f7-b542-478a-9a5a-047eeca08e78"
      },
      "execution_count": null,
      "outputs": [
        {
          "output_type": "stream",
          "name": "stdout",
          "text": [
            "Informe um número -> 10\n",
            "Segue lista contendo todos os números primos entre 1 e 10 -> [2, 3, 5, 7]\n"
          ]
        }
      ]
    },
    {
      "cell_type": "markdown",
      "metadata": {
        "id": "zrbz3ENlMgeE"
      },
      "source": [
        "#### Questão 6\n",
        "Escreva um programa que peça uma data informando o dia, mês e ano e determine se ela é uma data válida para uma análise."
      ]
    },
    {
      "cell_type": "code",
      "execution_count": null,
      "metadata": {
        "id": "0eYA8UjTMgeE",
        "colab": {
          "base_uri": "https://localhost:8080/"
        },
        "outputId": "937f587f-8958-4176-adb8-b7b32ad6a01f"
      },
      "outputs": [
        {
          "output_type": "stream",
          "name": "stdout",
          "text": [
            "Informe uma data -> 5\n",
            "Informe o nome de um mês -> maio\n",
            "Informe um ano a partir de 1900 -> 1992\n",
            "[5, 'maio', 1992]\n",
            "A data 5 de maio de 1992 é uma data válida para análise\n"
          ]
        }
      ],
      "source": [
        "meses = [\"janeiro\", \"fevereiro\", \"março\", \"abril\", \"maio\", \"junho\",\n",
        "         \"julho\", \"agosto\", \"setembro\", \"outubro\", \"novembro\", \"dezembro\"]\n",
        "\n",
        "def eh_bissexto(ano):\n",
        "  # define se um ano é bissexto, com base nas regras do calendário gregoriano\n",
        "    return (ano % 4 == 0 and ano % 100 != 0) or (ano % 400 == 0)\n",
        "\n",
        "while True:\n",
        "    try:\n",
        "        dia = int(input(\"Informe o dia (1-31): \"))\n",
        "        mes = input(\"Informe o nome do mês: \").strip().lower()\n",
        "        ano = int(input(\"Informe o ano (a partir de 1900): \"))\n",
        "\n",
        "        if mes not in meses:\n",
        "            print(\"Mês inválido! Tente novamente.\")\n",
        "            continue\n",
        "\n",
        "        max_dias = 31\n",
        "        if mes in [\"abril\", \"junho\", \"setembro\", \"novembro\"]:\n",
        "            max_dias = 30\n",
        "        elif mes == \"fevereiro\":\n",
        "            max_dias = 29 if eh_bissexto(ano) else 28\n",
        "\n",
        "        if not (1 <= dia <= max_dias):\n",
        "            print(f\"Dia inválido para o mês de {mes}! Tente novamente.\")\n",
        "            continue\n",
        "\n",
        "        if ano < 1900:\n",
        "            print(\"Ano inválido! Deve ser a partir de 1900.\")\n",
        "            continue\n",
        "\n",
        "        print(f\"\\nA data {dia} de {mes} de {ano} é uma data válida para análise.\")\n",
        "        break\n",
        "\n",
        "    except ValueError:\n",
        "        print(\"Entrada inválida! Por favor, insira valores corretos.\")"
      ]
    },
    {
      "cell_type": "markdown",
      "metadata": {
        "id": "ut_4VHdGMgeE"
      },
      "source": [
        "### Momento dos projetos"
      ]
    },
    {
      "cell_type": "markdown",
      "metadata": {
        "id": "G86Z0vD_MgeE"
      },
      "source": [
        "#### Questão 7\n",
        "Para um estudo envolvendo o nível de multiplicação de bactérias em uma colônia, foi coletado o número de bactérias multiplicadas por dia, com base em um processo de duplicação diária e pode ser observado a seguir: `[1.2, 2.1, 3.3, 5.0, 7.8, 11.3, 16.6, 25.1, 37.8, 56.9]`. Tendo esses valores, faça um código que gere uma lista contendo o percentual de crescimento de bactérias por dia, comparando o número de bactérias em cada dia com o número de bactérias do dia anterior. Dica: para calcular o percentual de crescimento usamos a seguinte equação: `100 * (amostra_atual - amostra_passada) / (amostra_passada)`."
      ]
    },
    {
      "cell_type": "code",
      "execution_count": 25,
      "metadata": {
        "id": "PXNO_CFkMgeE",
        "colab": {
          "base_uri": "https://localhost:8080/"
        },
        "outputId": "2332e0cf-a3b7-4528-c2fe-47b410ab5b7f"
      },
      "outputs": [
        {
          "output_type": "stream",
          "name": "stdout",
          "text": [
            "Percentual de crescimento diário das bactérias:\n",
            "Dia 2: 75.00%\n",
            "Dia 3: 57.14%\n",
            "Dia 4: 51.52%\n",
            "Dia 5: 56.00%\n",
            "Dia 6: 44.87%\n",
            "Dia 7: 46.90%\n",
            "Dia 8: 51.20%\n",
            "Dia 9: 50.60%\n",
            "Dia 10: 50.53%\n"
          ]
        }
      ],
      "source": [
        "amostras_diarias = [1.2, 2.1, 3.3, 5.0, 7.8, 11.3, 16.6, 25.1, 37.8, 56.9]\n",
        "crescimentos = []\n",
        "\n",
        "for i in range(1, len(amostras_diarias)):\n",
        "    amostra_atual = amostras_diarias[i]\n",
        "    amostra_passada = amostras_diarias[i - 1]\n",
        "\n",
        "    crescimento = 100 * (amostra_atual - amostra_passada) / amostra_passada\n",
        "    crescimentos.append(crescimento)\n",
        "\n",
        "print(\"Percentual de crescimento diário das bactérias:\")\n",
        "for dia, crescimento in enumerate(crescimentos, start=2):\n",
        "    print(f\"Dia {dia}: {crescimento:.2f}%\")"
      ]
    },
    {
      "cell_type": "markdown",
      "metadata": {
        "id": "p4nxogpnMgeE"
      },
      "source": [
        "#### Questão 8\n",
        "Para uma seleção de produtos alimentícios, precisamos separar o conjunto de IDs dados por números inteiros, sabendo que os produtos com ID par são doces e os com ID ímpar são amargos. Monte um código que colete 10 IDs. Depois, calcule e mostre a quantidade de produtos doces e amargos."
      ]
    },
    {
      "cell_type": "code",
      "execution_count": null,
      "metadata": {
        "id": "WqjO2SZkMgeE",
        "colab": {
          "base_uri": "https://localhost:8080/"
        },
        "outputId": "826a6b22-7a56-4d72-c98c-45538c232bf7",
        "collapsed": true
      },
      "outputs": [
        {
          "output_type": "stream",
          "name": "stdout",
          "text": [
            "Informe o ID do produto: -1\n",
            "Informe o ID do produto: 55\n",
            "Informe o ID do produto: 4\n",
            "Informe o ID do produto: -7\n",
            "Informe o ID do produto: -67\n",
            "Informe o ID do produto: 55\n",
            "Informe o ID do produto: -7\n",
            "Informe o ID do produto: -5\n",
            "Informe o ID do produto: 4\n",
            "Informe o ID do produto: 3\n",
            "\n",
            "Quantidade total de produtos:\n",
            "Doces: 5\n",
            "Amargos: 5\n"
          ]
        }
      ],
      "source": [
        "cont = 0\n",
        "doce = amargo = 0\n",
        "produtos = []\n",
        "\n",
        "while cont < 10:\n",
        "  produto = int(input(\"Informe o ID do produto: \"))\n",
        "  produtos.append(produto)\n",
        "  cont +=1\n",
        "\n",
        "for produto in produtos:\n",
        "  if produto > 0:\n",
        "    doce +=1\n",
        "  else:\n",
        "    amargo +=1\n",
        "\n",
        "print(\"\\nQuantidade total de produtos:\")\n",
        "print(f\"Doces: {doce}\")\n",
        "print(f\"Amargos: {amargo}\")"
      ]
    },
    {
      "cell_type": "markdown",
      "metadata": {
        "id": "t5OrLxV6MgeE"
      },
      "source": [
        "#### Questão 9\n",
        "Desenvolva um programa que informa a nota de um aluno de acordo com suas respostas. Ele deve pedir a resposta de um aluno para cada questão e é preciso verificar se a resposta foi igual ao gabarito. Cada questão vale um ponto e existem alternativas:  A, B, C ou D.\n",
        "```\n",
        "Gabarito da Prova:\n",
        "01 - D\n",
        "02 - A\n",
        "03 - C\n",
        "04 - B\n",
        "05 - A\n",
        "06 - D\n",
        "07 - C\n",
        "08 - C\n",
        "09 - A\n",
        "10 - B\n",
        "```"
      ]
    },
    {
      "cell_type": "code",
      "execution_count": null,
      "metadata": {
        "id": "ytIQDJrQMgeE",
        "colab": {
          "base_uri": "https://localhost:8080/"
        },
        "collapsed": true,
        "outputId": "f558c2bd-4b79-4d98-d044-276079f54d82"
      },
      "outputs": [
        {
          "output_type": "stream",
          "name": "stdout",
          "text": [
            "Informe a resposta da 1ª questão (A - D): b\n",
            "Informe a resposta da 2ª questão (A - D): a\n",
            "Informe a resposta da 3ª questão (A - D): b\n",
            "Informe a resposta da 4ª questão (A - D): a\n",
            "Informe a resposta da 5ª questão (A - D): c\n",
            "Informe a resposta da 6ª questão (A - D): a\n",
            "Informe a resposta da 7ª questão (A - D): a\n",
            "Informe a resposta da 8ª questão (A - D): a\n",
            "Informe a resposta da 9ª questão (A - D): a\n",
            "Informe a resposta da 10ª questão (A - D): a\n",
            "\n",
            "RESPOSTAS DO ALUNO:\n",
            "Questão 1: B\n",
            "Questão 2: A\n",
            "Questão 3: B\n",
            "Questão 4: A\n",
            "Questão 5: C\n",
            "Questão 6: A\n",
            "Questão 7: A\n",
            "Questão 8: A\n",
            "Questão 9: A\n",
            "Questão 10: A\n",
            "A sua nota é 2!\n"
          ]
        }
      ],
      "source": [
        "cont = 1\n",
        "alternativas = [\"A\", \"B\", \"C\", \"D\"]\n",
        "gabarito = [\"D\", \"A\", \"C\", \"B\", \"A\", \"D\", \"C\", \"C\", \"A\", \"B\"]\n",
        "gab_aluno = []\n",
        "nota = 0\n",
        "\n",
        "while cont < 11:\n",
        "  resposta = input(f\"Informe a resposta da {cont}ª questão (A - D): \").strip().upper()\n",
        "\n",
        "  if resposta not in alternativas:\n",
        "    print(\"Resposta inválida! Informe uma letra de (A - D)\")\n",
        "    continue\n",
        "  else:\n",
        "    cont +=1\n",
        "    gab_aluno.append(resposta)\n",
        "\n",
        "for x, y in zip(gabarito, gab_aluno):\n",
        "  if x == y:\n",
        "    nota +=1\n",
        "\n",
        "print(\"\\nRESPOSTAS DO ALUNO:\")\n",
        "for indice, resposta in enumerate(gab_aluno, 1):\n",
        "  print(f\"Questão {indice}: {resposta}\")\n",
        "\n",
        "print(f\"A sua nota é {nota}!\")"
      ]
    },
    {
      "cell_type": "code",
      "source": [
        "# função zip(x, y)!!\n",
        "\n",
        "X = [1, 2, 3, 4]\n",
        "Y = [1, 3, 2, 4]\n",
        "\n",
        "for x, y in zip(X, Y):\n",
        "    print(f\"Comparando {x} com {y}\")\n",
        "    if x == y:\n",
        "        print(\"Eles são iguais!\")\n",
        "    else:\n",
        "        print(\"Eles são diferentes!\")"
      ],
      "metadata": {
        "colab": {
          "base_uri": "https://localhost:8080/"
        },
        "collapsed": true,
        "id": "pjQYI6PRIEyw",
        "outputId": "d3994810-cdc2-42c9-fb52-53ad02060973"
      },
      "execution_count": null,
      "outputs": [
        {
          "output_type": "stream",
          "name": "stdout",
          "text": [
            "Comparando 1 com 1\n",
            "Eles são iguais!\n",
            "Comparando 2 com 3\n",
            "Eles são diferentes!\n",
            "Comparando 3 com 2\n",
            "Eles são diferentes!\n",
            "Comparando 4 com 4\n",
            "Eles são iguais!\n"
          ]
        }
      ]
    },
    {
      "cell_type": "code",
      "source": [
        "# função enumerate!!\n",
        "\n",
        "frutas = [\"maçã\", \"banana\", \"cereja\"]\n",
        "\n",
        "for i, fruta in enumerate(frutas, 1):  # Começa a contagem em 1\n",
        "    print(f\"{i}. {fruta}\")"
      ],
      "metadata": {
        "id": "sxIcsVLuLHzN"
      },
      "execution_count": null,
      "outputs": []
    },
    {
      "cell_type": "markdown",
      "metadata": {
        "id": "aSBMzh-AMgeF"
      },
      "source": [
        "#### Questão 10\n",
        "Um instituto de meteorologia deseja fazer um estudo de temperatura média de cada mês do ano. Para isso, você precisa fazer um código que colete e armazene essas temperaturas médias em uma lista. Depois, calcule a média anual das temperaturas e mostre todas as temperaturas acima da média anual, e em que mês elas ocorreram, mostrando os meses por extenso: Janeiro, Fevereiro, etc."
      ]
    },
    {
      "cell_type": "code",
      "execution_count": null,
      "metadata": {
        "id": "ftj04s2uMgeF",
        "colab": {
          "base_uri": "https://localhost:8080/"
        },
        "collapsed": true,
        "outputId": "88a26db7-4cf1-41e5-91a7-e55b4372bc57"
      },
      "outputs": [
        {
          "output_type": "stream",
          "name": "stdout",
          "text": [
            "Informe a temperatura média para o 1º mês: 28\n",
            "Informe a temperatura média para o 2º mês: 29\n",
            "Informe a temperatura média para o 3º mês: 32\n",
            "Informe a temperatura média para o 4º mês: 34\n",
            "Informe a temperatura média para o 5º mês: 35.1\n",
            "Informe a temperatura média para o 6º mês: 25.3\n",
            "Informe a temperatura média para o 7º mês: 26.8\n",
            "Informe a temperatura média para o 8º mês: 34\n",
            "Informe a temperatura média para o 9º mês: 32.2\n",
            "Informe a temperatura média para o 10º mês: 29.8\n",
            "Informe a temperatura média para o 11º mês: 34\n",
            "Informe a temperatura média para o 12º mês: 25.9\n",
            "\n",
            "CONCLUSÕES:\n",
            "A média anual das temperaturas foi de 30.51°C.\n",
            "\n",
            "Meses com a temperatura acima da média anual:\n",
            "Março: 32.00°C\n",
            "Abril: 34.00°C\n",
            "Maio: 35.10°C\n",
            "Agosto: 34.00°C\n",
            "Setembro: 32.20°C\n",
            "Novembro: 34.00°C\n"
          ]
        }
      ],
      "source": [
        "temperaturas = []\n",
        "temperaturas_acima = []\n",
        "meses = [\"janeiro\", \"fevereiro\", \"março\", \"abril\", \"maio\", \"junho\",\n",
        "         \"julho\", \"agosto\", \"setembro\", \"outubro\", \"novembro\", \"dezembro\"]\n",
        "\n",
        "for i in range(1, 13):\n",
        "  temp = float(input(f\"Informe a temperatura média para o {i}º mês: \"))\n",
        "  temperaturas.append(temp)\n",
        "\n",
        "media_anual = sum(temperaturas)/len(temperaturas)\n",
        "\n",
        "print(\"\\nCONCLUSÕES:\")\n",
        "print(f\"A média anual das temperaturas foi de {media_anual:.2f}°C.\")\n",
        "print(\"\\nMeses com a temperatura acima da média anual:\")\n",
        "\n",
        "for mes, temp in zip(meses, temperaturas):\n",
        "    if temp > media_anual:\n",
        "        print(f\"{mes.capitalize()}: {temp:.2f}°C\")"
      ]
    },
    {
      "cell_type": "markdown",
      "metadata": {
        "id": "0X8S6s4jMgeF"
      },
      "source": [
        "#### Questão 11\n",
        "Uma empresa de e-commerce está interessada em analisar as vendas dos seus produtos. Os dados das vendas foram armazenados em um dicionário:\n",
        "```\n",
        "{'Produto A': 300, 'Produto B': 80, 'Produto C': 60,\n",
        " 'Produto D': 200, 'Produto E': 250, 'Produto F': 30}\n",
        "```\n",
        "Escreva um código que calcule o total de vendas e o produto mais vendido."
      ]
    },
    {
      "cell_type": "code",
      "execution_count": null,
      "metadata": {
        "id": "Xa3DJLtFMgeF",
        "colab": {
          "base_uri": "https://localhost:8080/"
        },
        "outputId": "22c257e3-9e80-4ab5-967b-6b20cc52b3d2"
      },
      "outputs": [
        {
          "output_type": "stream",
          "name": "stdout",
          "text": [
            "Total de vendas: R$920\n",
            "O produto mais vendido foi: Produto A, com 300 unidades.\n"
          ]
        }
      ],
      "source": [
        "dicionario = {'Produto A': 300, 'Produto B': 80, 'Produto C':60,\n",
        "'Produto D':200, 'Produto E':250,'Produto F':30}\n",
        "precos = []\n",
        "\n",
        "for preco in dicionario.values():\n",
        "  precos.append(preco)\n",
        "total_vendas = sum(precos)\n",
        "\n",
        "produto_mais_vendido = max(dicionario, key=dicionario.get)\n",
        "\n",
        "print(f\"Total de vendas: R${total_vendas}\")\n",
        "print(f\"O produto mais vendido foi: {produto_mais_vendido}, com {dicionario[produto_mais_vendido]} unidades.\")"
      ]
    },
    {
      "cell_type": "markdown",
      "metadata": {
        "id": "nrEwf_1ZMgeF"
      },
      "source": [
        "#### Questão 12\n",
        "Uma pesquisa de mercado foi feita para decidir qual design de uma marca infantil mais agrada crianças. A pesquisa foi feita e o votos computados podem ser observados abaixo:\n",
        "```\n",
        "'''\n",
        "Tabela de votos da marca\n",
        "Design 1 - 1334 votos\n",
        "Design 2 - 982 votos\n",
        "Design 3 - 1751 votos\n",
        "Design 4 - 210 votos\n",
        "Design 5 - 1811 votos\n",
        "'''\n",
        "```\n",
        "Adapte os dados fornecidos a você para uma estrutura de dicionário e a partir dele, informe o design vencedor e a porcentagem de votos recebidos.\n"
      ]
    },
    {
      "cell_type": "code",
      "execution_count": null,
      "metadata": {
        "id": "MRPcGR-_MgeF",
        "colab": {
          "base_uri": "https://localhost:8080/"
        },
        "outputId": "194739b8-1e60-41da-e33a-391894b02544"
      },
      "outputs": [
        {
          "output_type": "stream",
          "name": "stdout",
          "text": [
            "design 5\n",
            "O design vencedor é o design 5, com 1811 votos, sendo estes o equivalente a 29.75% dos votos totais.\n"
          ]
        }
      ],
      "source": [
        "dicionarios_votos = {\"design 1\": 1334, \"design 2\": 982, \"design 3\": 1751, \"design 4\": 210, \"design 5\": 1811}\n",
        "votos = []\n",
        "\n",
        "for voto in dicionarios_votos.values():\n",
        "  votos.append(voto)\n",
        "votos_totais = sum(votos) # lista com o somatorio de tds os votos\n",
        "\n",
        "design_vencedor = max(dicionarios_votos, key=dicionarios_votos.get) #pega o design venecedor com base no valorda chave\n",
        "print(design_vencedor)\n",
        "pontos_vencedor = dicionarios_votos[design_vencedor] #pega a qtd de votos do design vencedor\n",
        "\n",
        "relacao_porcentagem = (pontos_vencedor * 100)/votos_totais\n",
        "\n",
        "print(f\"O design vencedor é o {design_vencedor}, com {pontos_vencedor} votos, sendo estes o equivalente a {relacao_porcentagem:.2f}% dos votos totais.\")"
      ]
    },
    {
      "cell_type": "markdown",
      "metadata": {
        "id": "HRTFFzKIMgeF"
      },
      "source": [
        "#### Questão 13\n",
        "Os funcionários de um setor da empresa que você trabalha vão receber um abono correspondente a 10% do seu salário devido ao ótimo desempenho do time. O setor financeiro solicitou sua ajuda para a verificação das consequências financeiras que esse abono irá gerar nos recursos. Assim, foi encaminhada para você uma lista com os salários que receberão o abono: `[1172, 1644, 2617, 5130, 5532, 6341, 6650, 7238, 7685, 7782, 7903]`. O abono de cada funcionário não pode ser inferior a 200. Em código, transforme cada um dos salários em chaves de um dicionário e o abono de cada salário no elemento. Depois, informe o total de gastos com o abono, quantos funcionários receberam o abono mínimo e qual o maior valor de abono fornecido.\n"
      ]
    },
    {
      "cell_type": "code",
      "execution_count": 21,
      "metadata": {
        "id": "QsDSCua42bLB",
        "colab": {
          "base_uri": "https://localhost:8080/"
        },
        "outputId": "58c46bf8-ca53-40ca-d652-15169eed9389"
      },
      "outputs": [
        {
          "output_type": "stream",
          "name": "stdout",
          "text": [
            "Quantidade de funcionários que receberam o abono mínimo de R$ 200: 2 funcionários.\n",
            "O maior abono foi de R$ 790.30\n",
            "Total de gastos com abonos: R$  6087.80\n",
            "Lista de abonos por funcionário:\n",
            "Salário: R$ 1172 -> Abono: R$ 200.00\n",
            "Salário: R$ 1644 -> Abono: R$ 200.00\n",
            "Salário: R$ 2617 -> Abono: R$ 261.70\n",
            "Salário: R$ 5130 -> Abono: R$ 513.00\n",
            "Salário: R$ 5532 -> Abono: R$ 553.20\n",
            "Salário: R$ 6341 -> Abono: R$ 634.10\n",
            "Salário: R$ 6650 -> Abono: R$ 665.00\n",
            "Salário: R$ 7238 -> Abono: R$ 723.80\n",
            "Salário: R$ 7685 -> Abono: R$ 768.50\n",
            "Salário: R$ 7782 -> Abono: R$ 778.20\n",
            "Salário: R$ 7903 -> Abono: R$ 790.30\n"
          ]
        }
      ],
      "source": [
        "salarios = [1172, 1644, 2617, 5130, 5532, 6341, 6650, 7238, 7685, 7782, 7903]\n",
        "abonos = {}\n",
        "total_abonos = 0\n",
        "abono_min = 0\n",
        "\n",
        "for salario in salarios:\n",
        "  abono = salario * 0.1 # dá apenas o valor do abono\n",
        "  if abono < 200:\n",
        "    abono = 200 # abono menor que 200 vira automaticamente 200\n",
        "    abono_min +=1\n",
        "\n",
        "  abonos[salario] = abono # add ao dicionário o salário como chave e abono como valor\n",
        "\n",
        "  total_abonos += abono # soma os abonos pra saber o gasto\n",
        "\n",
        "maior_abono = max(abonos.values()) # conseguir o maior abono na lista de abonoS\n",
        "\n",
        "print(f\"Quantidade de funcionários que receberam o abono mínimo de R$ 200: {abono_min} funcionários.\")\n",
        "print(f\"O maior abono foi de R$ {maior_abono:.2f}\")\n",
        "print(f\"Total de gastos com abonos: R$ {total_abonos: .2f}\")\n",
        "print(\"Lista de abonos por funcionário:\")\n",
        "for salario, abono in abonos.items():\n",
        "    print(f\"Salário: R$ {salario} -> Abono: R$ {abono:.2f}\")"
      ]
    },
    {
      "cell_type": "markdown",
      "metadata": {
        "id": "6dEXZEwjMlWy"
      },
      "source": [
        "#### Questão 14\n",
        "Uma equipe de cientistas de dados está estudando a diversidade biológica em uma floresta. A equipe fez a coleta de informações sobre o número de espécies de plantas e animais em cada área da floresta e armazenaram essas informações em um dicionário. Nele, a chave descreve a área dos dados e os valores nas listas correspondem às espécies de plantas e animais nas áreas, respectivamente.\n",
        "```\n",
        "{'Área Norte': [2819, 7236],\n",
        " 'Área Leste': [1440, 9492],\n",
        " 'Área Sul': [5969, 7496],\n",
        " 'Área Oeste': [14446, 49688],\n",
        " 'Área Centro': [22558, 45148]}\n",
        "```\n",
        "Escreva um código para calcular a média de espécies por área e identificar a área com a maior diversidade biológica. Dica: use as funções built-in [`sum()`](https://docs.python.org/3/library/functions.html#sum) e [`len()`](https://docs.python.org/3/library/functions.html#len).\n"
      ]
    },
    {
      "cell_type": "code",
      "execution_count": null,
      "metadata": {
        "id": "eQnOUDfYMlWy",
        "colab": {
          "base_uri": "https://localhost:8080/"
        },
        "outputId": "da1e3716-0fce-4aef-a08f-c0619a0460f4"
      },
      "outputs": [
        {
          "output_type": "stream",
          "name": "stdout",
          "text": [
            "Média da Área Norte: 5027.5\n",
            "Média da Área Sul: 6732.5\n",
            "Média da Área Leste: 5466.0\n",
            "Média da Área Oeste: 32067.0\n",
            "Média da Área Centro: 33853.0\n",
            "\n",
            "A área com maior diversidade biológica é a Área Centro, com uma média de  33853.00 espécies.\n"
          ]
        }
      ],
      "source": [
        "dicionario = {'Área Norte': [2819, 7236],\n",
        " 'Área Leste': [1440, 9492],\n",
        " 'Área Sul': [5969, 7496],\n",
        " 'Área Oeste': [14446, 49688],\n",
        " 'Área Centro': [22558, 45148]}\n",
        "\n",
        "dicionario_dados_medias =[]\n",
        "\n",
        "norte = dicionario[\"Área Norte\"]\n",
        "sul = dicionario[\"Área Sul\"]\n",
        "leste = dicionario[\"Área Leste\"]\n",
        "oeste = dicionario[\"Área Oeste\"]\n",
        "centro = dicionario[\"Área Centro\"]\n",
        "\n",
        "media_norte = sum(norte)/len(norte)\n",
        "media_sul = sum(sul)/len(sul)\n",
        "media_leste = sum(leste)/len(leste)\n",
        "media_oeste = sum(oeste)/len(oeste)\n",
        "media_centro = sum(centro)/len(centro)\n",
        "\n",
        "# Armazenando as médias em um dicionário para facilitar a busca\n",
        "medias = {\n",
        "    \"Área Norte\": media_norte,\n",
        "    \"Área Sul\": media_sul,\n",
        "    \"Área Leste\": media_leste,\n",
        "    \"Área Oeste\": media_oeste,\n",
        "    \"Área Centro\": media_centro\n",
        "}\n",
        "\n",
        "# Encontrando a maior média\n",
        "maior_area = max(medias, key=medias.get)\n",
        "maior_media = medias[maior_area]\n",
        "\n",
        "print(f\"Média da Área Norte: {media_norte}\")\n",
        "print(f\"Média da Área Sul: {media_sul}\")\n",
        "print(f\"Média da Área Leste: {media_leste}\")\n",
        "print(f\"Média da Área Oeste: {media_oeste}\")\n",
        "print(f\"Média da Área Centro: {media_centro}\")\n",
        "print(f\"\\nA área com maior diversidade biológica é a {maior_area}, com uma média de {maior_media: .2f} espécies.\")"
      ]
    },
    {
      "cell_type": "markdown",
      "metadata": {
        "id": "r0RW2Sy_MlWy"
      },
      "source": [
        "#### Questão 15\n",
        "O setor de RH da sua empresa te pediu uma ajuda para analisar as idades dos funcionários de 4 setores da empresa. Para isso, ele te forneceu os seguintes dados:\n",
        "```\n",
        "{'Setor A': [22, 26, 30, 30, 35, 38, 40, 56, 57, 65],\n",
        " 'Setor B': [22, 24, 26, 33, 41, 49, 50, 54, 60, 64],\n",
        " 'Setor C': [23, 26, 26, 29, 34, 35, 36, 41, 52, 56],\n",
        " 'Setor D': [19, 20, 25, 27, 34, 39, 42, 44, 50, 65]}\n",
        "```\n",
        "Sabendo que cada setor tem 10 funcionários, construa um código que calcule a média de idade de cada setor, a idade média geral entre todos os setores e quantas pessoas estão acima da idade média geral.\n"
      ]
    },
    {
      "cell_type": "code",
      "execution_count": null,
      "metadata": {
        "id": "wCiwyKP3MmTz",
        "colab": {
          "base_uri": "https://localhost:8080/"
        },
        "outputId": "36b81c2e-5886-4ffa-acc8-9e04f9167cd1",
        "collapsed": true
      },
      "outputs": [
        {
          "output_type": "stream",
          "name": "stdout",
          "text": [
            "Lista de idades do Setor A: [22, 26, 30, 30, 35, 38, 40, 56, 57, 65]\n",
            "Média de idades das pessoas do Setor A: 39.9 anos.\n",
            "Lista de idades do Setor B: [22, 24, 26, 33, 41, 49, 50, 54, 60, 64]\n",
            "Média de idades das pessoas do Setor B: 42.3 anos.\n",
            "Lista de idades do Setor C: [23, 26, 26, 29, 34, 35, 36, 41, 52, 56]\n",
            "Média de idades das pessoas do Setor C: 35.8 anos.\n",
            "Lista de idades do Setor D: [19, 20, 25, 27, 34, 39, 42, 44, 50, 65]\n",
            "Média de idades das pessoas do Setor D: 36.5 anos.\n",
            "\n",
            "Média de idades de todos os setores: 38.0 anos\n",
            "Quantidade de pessoas acima da média: 18 pessoas.\n"
          ]
        }
      ],
      "source": [
        "dicionario_geral = {\n",
        "    'Setor A': [22, 26, 30, 30, 35, 38, 40, 56, 57, 65],\n",
        "    'Setor B': [22, 24, 26, 33, 41, 49, 50, 54, 60, 64],\n",
        "    'Setor C': [23, 26, 26, 29, 34, 35, 36, 41, 52, 56],\n",
        "    'Setor D': [19, 20, 25, 27, 34, 39, 42, 44, 50, 65]\n",
        "}\n",
        "\n",
        "idades_a = []\n",
        "idades_b = []\n",
        "idades_c = []\n",
        "idades_d = []\n",
        "\n",
        "cont_acima_media = 0\n",
        "\n",
        "setor_a = dicionario_geral['Setor A']\n",
        "setor_b = dicionario_geral['Setor B']\n",
        "setor_c = dicionario_geral['Setor C']\n",
        "setor_d = dicionario_geral['Setor D']\n",
        "\n",
        "media_a = sum(setor_a) / len(setor_a)\n",
        "media_b = sum(setor_b) / len(setor_b)\n",
        "media_c = sum(setor_c) / len(setor_c)\n",
        "media_d = sum(setor_d) / len(setor_d)\n",
        "\n",
        "media_geral_setores = int((media_a + media_b + media_c + media_d) / 4)\n",
        "\n",
        "for idades in dicionario_geral.values():\n",
        "    for idade in idades: # idadeS é uma lista, aí precisar iterar sobre cada valor (idade)\n",
        "        if idade > media_geral_setores:\n",
        "            cont_acima_media += 1\n",
        "\n",
        "# ------- PRINTS -------\n",
        "print(f'Lista de idades do Setor A: {setor_a}')\n",
        "print(f'Média de idades das pessoas do Setor A: {media_a:.1f} anos.')\n",
        "print(f'Lista de idades do Setor B: {setor_b}')\n",
        "print(f'Média de idades das pessoas do Setor B: {media_b:.1f} anos.')\n",
        "print(f'Lista de idades do Setor C: {setor_c}')\n",
        "print(f'Média de idades das pessoas do Setor C: {media_c:.1f} anos.')\n",
        "print(f'Lista de idades do Setor D: {setor_d}')\n",
        "print(f'Média de idades das pessoas do Setor D: {media_d:.1f} anos.')\n",
        "\n",
        "print(f'\\nMédia de idades de todos os setores: {media_geral_setores:.1f} anos')\n",
        "print(f'Quantidade de pessoas acima da média: {cont_acima_media} pessoas.')\n"
      ]
    }
  ],
  "metadata": {
    "colab": {
      "provenance": [],
      "toc_visible": true,
      "include_colab_link": true
    },
    "kernelspec": {
      "display_name": "Python 3",
      "name": "python3"
    },
    "language_info": {
      "name": "python"
    }
  },
  "nbformat": 4,
  "nbformat_minor": 0
}